{
 "cells": [
  {
   "cell_type": "markdown",
   "id": "416bd93c",
   "metadata": {},
   "source": [
    "# Data Science Challenge\n",
    "\n",
    "\n",
    "\n",
    "\n"
   ]
  },
  {
   "cell_type": "markdown",
   "id": "91cced19",
   "metadata": {},
   "source": [
    "\n",
    "\n",
    "# Table of Contents\n",
    "\n",
    "1. [Exercise1](#Exercise1) \n",
    "  . [*Solution*](#Exercise1)        \n",
    "2. [Exercise2](#Exercise2)\n",
    "  . [*Solution*](#Sol2)\n",
    "3. [Exercise3](#Exercise3)\n",
    "  . [*Solution*](#Sol3)\n",
    "4. [Exercise4](#Exercise4)\n",
    "  . [*Solution*](#Sol4)\n",
    "\n"
   ]
  },
  {
   "cell_type": "code",
   "execution_count": 1,
   "id": "e4b8e99e",
   "metadata": {},
   "outputs": [],
   "source": [
    "import pandas as pd\n",
    "import numpy as np\n",
    "import matplotlib.pyplot as plt\n",
    "\n",
    "import seaborn as sns\n"
   ]
  },
  {
   "cell_type": "markdown",
   "id": "22e63da4",
   "metadata": {},
   "source": [
    "### Number of lines in each file - first aproach - shell command"
   ]
  },
  {
   "cell_type": "code",
   "execution_count": 5,
   "id": "2aaea7b4",
   "metadata": {},
   "outputs": [
    {
     "name": "stdout",
     "output_type": "stream",
     "text": [
      "20390198\r\n"
     ]
    }
   ],
   "source": [
    "!bzcat /home/dsc/data/challenge/searches.csv.bz2 | wc -l"
   ]
  },
  {
   "cell_type": "code",
   "execution_count": 6,
   "id": "1d3906d1",
   "metadata": {},
   "outputs": [
    {
     "name": "stdout",
     "output_type": "stream",
     "text": [
      "10000011\r\n"
     ]
    }
   ],
   "source": [
    "!bzcat /home/dsc/data/challenge/bookings.csv.bz2 | wc -l"
   ]
  },
  {
   "cell_type": "code",
   "execution_count": 7,
   "id": "f874bf40",
   "metadata": {},
   "outputs": [
    {
     "name": "stdout",
     "output_type": "stream",
     "text": [
      "total 1014604\n",
      "-rw-r--r-- 1 dsc dsc 554970628 abr 10  2021 bookings.csv.bz2\n",
      "-rw-rw-r-- 1 dsc dsc    535893 jun 11 21:04 bookings.sample.csv.bz2\n",
      "-rw-r--r-- 1 dsc dsc 483188920 abr 10  2021 searches.csv.bz2\n",
      "-rw-rw-r-- 1 dsc dsc    244720 jun 11 21:04 searches.sample.csv.bz2\n",
      "/home/dsc/07_Data_Science_Challenge\n",
      "\n",
      "bzcat: I/O or other error, bailing out.  Possible reason follows.\n",
      "bzcat: Broken pipe\n",
      "\tInput file = /home/dsc/data/challenge/searches.csv.bz2, output file = (stdout)\n",
      "\n",
      "bzcat: I/O or other error, bailing out.  Possible reason follows.\n",
      "bzcat: Broken pipe\n",
      "\tInput file = /home/dsc/data/challenge/bookings.csv.bz2, output file = (stdout)\n"
     ]
    }
   ],
   "source": [
    "#sample data to work with\n",
    "!ls -l /home/dsc/data/challenge/\n",
    "!pwd\n",
    "!bzcat /home/dsc/data/challenge/searches.csv.bz2 | head -10000 | bzip2 > searches.sample.csv.bz2\n",
    "!bzcat /home/dsc/data/challenge/bookings.csv.bz2 | head -10000 | bzip2 > bookings.sample.csv.bz2\n"
   ]
  },
  {
   "cell_type": "code",
   "execution_count": 8,
   "id": "a20d0830",
   "metadata": {},
   "outputs": [
    {
     "name": "stdout",
     "output_type": "stream",
     "text": [
      "total 1064\r\n",
      "-rw-r--r-- 1 dsc dsc 230559 jun  9 17:48 airports_geonames_only_clean.csv\r\n",
      "-rw-rw-r-- 1 dsc dsc 535893 jun 12 11:38 bookings.sample.csv.bz2\r\n",
      "-rw-rw-r-- 1 dsc dsc  15270 jun 12 11:37 Data_science_challenge.ipynb\r\n",
      "-rw-r--r-- 1 dsc dsc  57002 jun 11 23:37 DS_Challenge.draft.ipynb\r\n",
      "-rw-rw-r-- 1 dsc dsc 244720 jun 12 11:38 searches.sample.csv.bz2\r\n"
     ]
    }
   ],
   "source": [
    "!ls -l \n",
    "#\\rm searches.sample.csv\n",
    "# split dataFile into Nfiles of size 1Mb. Quite quick, does not keep header except for first created subfile\n",
    "! bzcat bookings.sample.csv.bz2| split -b 1M -d -a 4 --filter='bzip2 > $FILE.bz2' - split_bookings_\n",
    "#!\\rm split*"
   ]
  },
  {
   "cell_type": "code",
   "execution_count": 9,
   "id": "f5aa05e5",
   "metadata": {},
   "outputs": [
    {
     "name": "stdout",
     "output_type": "stream",
     "text": [
      "total 1604\r\n",
      "-rw-r--r-- 1 dsc dsc 230559 jun  9 17:48 airports_geonames_only_clean.csv\r\n",
      "-rw-rw-r-- 1 dsc dsc 535893 jun 12 11:38 bookings.sample.csv.bz2\r\n",
      "-rw-rw-r-- 1 dsc dsc  15270 jun 12 11:37 Data_science_challenge.ipynb\r\n",
      "-rw-r--r-- 1 dsc dsc  57002 jun 11 23:37 DS_Challenge.draft.ipynb\r\n",
      "-rw-rw-r-- 1 dsc dsc 244720 jun 12 11:38 searches.sample.csv.bz2\r\n",
      "-rw-rw-r-- 1 dsc dsc 134566 jun 12 11:38 split_bookings_0000.bz2\r\n",
      "-rw-rw-r-- 1 dsc dsc 134333 jun 12 11:38 split_bookings_0001.bz2\r\n",
      "-rw-rw-r-- 1 dsc dsc 135751 jun 12 11:38 split_bookings_0002.bz2\r\n",
      "-rw-rw-r-- 1 dsc dsc 134062 jun 12 11:38 split_bookings_0003.bz2\r\n",
      "-rw-rw-r-- 1 dsc dsc   6699 jun 12 11:38 split_bookings_0004.bz2\r\n"
     ]
    }
   ],
   "source": [
    "!ls -l"
   ]
  },
  {
   "cell_type": "markdown",
   "id": "78dd0ee9",
   "metadata": {},
   "source": [
    "# Exercise 1  <a name=\"Exercise1\"></a>\n",
    "\n",
    "#### Number of lines in each file - second aproach -bz2"
   ]
  },
  {
   "cell_type": "code",
   "execution_count": 37,
   "id": "642ab56c",
   "metadata": {},
   "outputs": [],
   "source": [
    "import bz2\n"
   ]
  },
  {
   "cell_type": "markdown",
   "id": "7fd8ab68",
   "metadata": {},
   "source": [
    " <a name=\"Sol1\"></a>\n"
   ]
  },
  {
   "cell_type": "code",
   "execution_count": 12,
   "id": "b494e419",
   "metadata": {},
   "outputs": [
    {
     "name": "stdout",
     "output_type": "stream",
     "text": [
      "10000011\n"
     ]
    }
   ],
   "source": [
    "count=0\n",
    "#with  bz2.BZ2File('./bookings.sample.csv.bz2') as bk:\n",
    "with  bz2.BZ2File('/home/dsc/data/challenge/bookings.csv.bz2') as bk:\n",
    "    for i in bk:\n",
    "        count +=1\n",
    "print(count)"
   ]
  },
  {
   "cell_type": "code",
   "execution_count": 13,
   "id": "3acc5a34",
   "metadata": {},
   "outputs": [
    {
     "name": "stdout",
     "output_type": "stream",
     "text": [
      "20390199\n"
     ]
    }
   ],
   "source": [
    "count=0\n",
    "#with  bz2.BZ2File('./bookings.sample.csv.bz2') as bk:\n",
    "with  bz2.BZ2File('/home/dsc/data/challenge/searches.csv.bz2') as bk:\n",
    "    for i in bk:\n",
    "        count +=1\n",
    "print(count)"
   ]
  },
  {
   "cell_type": "markdown",
   "id": "6fb7f712",
   "metadata": {},
   "source": [
    "## How does the data look like"
   ]
  },
  {
   "cell_type": "code",
   "execution_count": 14,
   "id": "ef518351",
   "metadata": {},
   "outputs": [
    {
     "name": "stdout",
     "output_type": "stream",
     "text": [
      "act_date           ^source^pos_ctry^pos_iata^pos_oid  ^rloc          ^cre_date           ^duration^distance^dep_port^dep_city^dep_ctry^arr_port^arr_city^arr_ctry^lst_port^lst_city^lst_ctry^brd_port^brd_city^brd_ctry^off_port^off_city^off_ctry^mkt_port^mkt_city^mkt_ctry^intl^route          ^carrier^bkg_class^cab_class^brd_time           ^off_time           ^pax^year^month^oid      \r\n",
      "2013-03-05 00:00:00^1A    ^DE      ^a68dd7ae953c8acfb187a1af2dcbe123^1a11ae49fcbf545fd2afc1a24d88d2b7^ea65900e72d71f4626378e2ebd298267^2013-02-22 00:00:00^1708^0^ZRH     ^ZRH     ^CH      ^LHR     ^LON     ^GB      ^ZRH     ^ZRH     ^CH      ^LHR     ^LON     ^GB      ^ZRH     ^ZRH     ^CH      ^LHRZRH  ^LONZRH  ^CHGB    ^1^LHRZRH         ^VI^T        ^Y        ^2013-03-07 08:50:00^2013-03-07 11:33:37^-1^2013^3^NULL     \r\n",
      "2013-03-26 00:00:00^1A    ^US      ^e612b9eeeee6f17f42d9b0d3b79e75ca^7437560d8f276d6d05eeb806d9e7edee^737295a86982c941f1c2da9a46a14043^2013-03-26 00:00:00^135270^0^SAL     ^SAL     ^SV      ^CLT     ^CLT     ^US      ^SAL     ^SAL     ^SV      ^SAL     ^SAL     ^SV      ^CLT     ^CLT     ^US      ^CLTSAL  ^CLTSAL  ^SVUS    ^1^SALATLCLT      ^NV^L        ^Y        ^2013-04-12 13:04:00^2013-04-12 22:05:40^1^2013^3^NULL     \r\n",
      "2013-03-26 00:00:00^1A    ^US      ^e612b9eeeee6f17f42d9b0d3b79e75ca^7437560d8f276d6d05eeb806d9e7edee^737295a86982c941f1c2da9a46a14043^2013-03-26 00:00:00^135270^0^SAL     ^SAL     ^SV      ^CLT     ^CLT     ^US      ^SAL     ^SAL     ^SV      ^CLT     ^CLT     ^US      ^SAL     ^SAL     ^SV      ^CLTSAL  ^CLTSAL  ^SVUS    ^1^CLTATLSAL      ^NV^U        ^Y        ^2013-07-15 07:00:00^2013-07-15 11:34:51^1^2013^3^NULL     \r\n",
      "2013-03-26 00:00:00^1A    ^AU      ^0f984b3bb6bd06661c95529bbd6193bc^36472c6dbaf7afec9136ac40364e2794^5ecf00fdcbcec761c43dc7285253d0c1^2013-03-26 00:00:00^30885^0^AKL     ^AKL     ^NZ      ^SVO     ^MOW     ^RU      ^AKL     ^AKL     ^NZ      ^AKL     ^AKL     ^NZ      ^SVO     ^MOW     ^RU      ^AKLSVO  ^AKLMOW  ^NZRU    ^1^AKLHKGSVO      ^XK^G        ^Y        ^2013-04-24 23:59:00^2013-04-25 16:06:31^1^2013^3^SYDA82546\r\n",
      "\r\n",
      "bzcat: I/O or other error, bailing out.  Possible reason follows.\r\n",
      "bzcat: Broken pipe\r\n",
      "\tInput file = bookings.sample.csv.bz2, output file = (stdout)\r\n"
     ]
    }
   ],
   "source": [
    "!bzcat bookings.sample.csv.bz2 | head -5"
   ]
  },
  {
   "cell_type": "markdown",
   "id": "14ccbd8c",
   "metadata": {},
   "source": [
    "## Reading files - pd.read_csv. Using sample files"
   ]
  },
  {
   "cell_type": "code",
   "execution_count": 15,
   "id": "4c432304",
   "metadata": {},
   "outputs": [
    {
     "data": {
      "text/plain": [
       "pandas.core.frame.DataFrame"
      ]
     },
     "execution_count": 15,
     "metadata": {},
     "output_type": "execute_result"
    }
   ],
   "source": [
    "bk_df= pd.read_csv('./bookings.sample.csv.bz2', compression='bz2',  sep='^')\n",
    "type(bk_df)"
   ]
  },
  {
   "cell_type": "code",
   "execution_count": 16,
   "id": "9596aea5",
   "metadata": {},
   "outputs": [
    {
     "data": {
      "text/plain": [
       "pandas.core.frame.DataFrame"
      ]
     },
     "execution_count": 16,
     "metadata": {},
     "output_type": "execute_result"
    }
   ],
   "source": [
    "sh_df= pd.read_csv('./searches.sample.csv.bz2', compression='bz2',  sep='^')\n",
    "type(sh_df)"
   ]
  },
  {
   "cell_type": "code",
   "execution_count": 17,
   "id": "6fdfe8ee",
   "metadata": {},
   "outputs": [
    {
     "data": {
      "text/html": [
       "<div>\n",
       "<style scoped>\n",
       "    .dataframe tbody tr th:only-of-type {\n",
       "        vertical-align: middle;\n",
       "    }\n",
       "\n",
       "    .dataframe tbody tr th {\n",
       "        vertical-align: top;\n",
       "    }\n",
       "\n",
       "    .dataframe thead th {\n",
       "        text-align: right;\n",
       "    }\n",
       "</style>\n",
       "<table border=\"1\" class=\"dataframe\">\n",
       "  <thead>\n",
       "    <tr style=\"text-align: right;\">\n",
       "      <th></th>\n",
       "      <th>act_date</th>\n",
       "      <th>source</th>\n",
       "      <th>pos_ctry</th>\n",
       "      <th>pos_iata</th>\n",
       "      <th>pos_oid</th>\n",
       "      <th>rloc</th>\n",
       "      <th>cre_date</th>\n",
       "      <th>duration</th>\n",
       "      <th>distance</th>\n",
       "      <th>dep_port</th>\n",
       "      <th>...</th>\n",
       "      <th>route</th>\n",
       "      <th>carrier</th>\n",
       "      <th>bkg_class</th>\n",
       "      <th>cab_class</th>\n",
       "      <th>brd_time</th>\n",
       "      <th>off_time</th>\n",
       "      <th>pax</th>\n",
       "      <th>year</th>\n",
       "      <th>month</th>\n",
       "      <th>oid</th>\n",
       "    </tr>\n",
       "  </thead>\n",
       "  <tbody>\n",
       "    <tr>\n",
       "      <th>0</th>\n",
       "      <td>2013-03-05 00:00:00</td>\n",
       "      <td>1A</td>\n",
       "      <td>DE</td>\n",
       "      <td>a68dd7ae953c8acfb187a1af2dcbe123</td>\n",
       "      <td>1a11ae49fcbf545fd2afc1a24d88d2b7</td>\n",
       "      <td>ea65900e72d71f4626378e2ebd298267</td>\n",
       "      <td>2013-02-22 00:00:00</td>\n",
       "      <td>1708</td>\n",
       "      <td>0</td>\n",
       "      <td>ZRH</td>\n",
       "      <td>...</td>\n",
       "      <td>LHRZRH</td>\n",
       "      <td>VI</td>\n",
       "      <td>T</td>\n",
       "      <td>Y</td>\n",
       "      <td>2013-03-07 08:50:00</td>\n",
       "      <td>2013-03-07 11:33:37</td>\n",
       "      <td>-1</td>\n",
       "      <td>2013</td>\n",
       "      <td>3</td>\n",
       "      <td>NULL</td>\n",
       "    </tr>\n",
       "    <tr>\n",
       "      <th>1</th>\n",
       "      <td>2013-03-26 00:00:00</td>\n",
       "      <td>1A</td>\n",
       "      <td>US</td>\n",
       "      <td>e612b9eeeee6f17f42d9b0d3b79e75ca</td>\n",
       "      <td>7437560d8f276d6d05eeb806d9e7edee</td>\n",
       "      <td>737295a86982c941f1c2da9a46a14043</td>\n",
       "      <td>2013-03-26 00:00:00</td>\n",
       "      <td>135270</td>\n",
       "      <td>0</td>\n",
       "      <td>SAL</td>\n",
       "      <td>...</td>\n",
       "      <td>SALATLCLT</td>\n",
       "      <td>NV</td>\n",
       "      <td>L</td>\n",
       "      <td>Y</td>\n",
       "      <td>2013-04-12 13:04:00</td>\n",
       "      <td>2013-04-12 22:05:40</td>\n",
       "      <td>1</td>\n",
       "      <td>2013</td>\n",
       "      <td>3</td>\n",
       "      <td>NULL</td>\n",
       "    </tr>\n",
       "    <tr>\n",
       "      <th>2</th>\n",
       "      <td>2013-03-26 00:00:00</td>\n",
       "      <td>1A</td>\n",
       "      <td>US</td>\n",
       "      <td>e612b9eeeee6f17f42d9b0d3b79e75ca</td>\n",
       "      <td>7437560d8f276d6d05eeb806d9e7edee</td>\n",
       "      <td>737295a86982c941f1c2da9a46a14043</td>\n",
       "      <td>2013-03-26 00:00:00</td>\n",
       "      <td>135270</td>\n",
       "      <td>0</td>\n",
       "      <td>SAL</td>\n",
       "      <td>...</td>\n",
       "      <td>CLTATLSAL</td>\n",
       "      <td>NV</td>\n",
       "      <td>U</td>\n",
       "      <td>Y</td>\n",
       "      <td>2013-07-15 07:00:00</td>\n",
       "      <td>2013-07-15 11:34:51</td>\n",
       "      <td>1</td>\n",
       "      <td>2013</td>\n",
       "      <td>3</td>\n",
       "      <td>NULL</td>\n",
       "    </tr>\n",
       "    <tr>\n",
       "      <th>3</th>\n",
       "      <td>2013-03-26 00:00:00</td>\n",
       "      <td>1A</td>\n",
       "      <td>AU</td>\n",
       "      <td>0f984b3bb6bd06661c95529bbd6193bc</td>\n",
       "      <td>36472c6dbaf7afec9136ac40364e2794</td>\n",
       "      <td>5ecf00fdcbcec761c43dc7285253d0c1</td>\n",
       "      <td>2013-03-26 00:00:00</td>\n",
       "      <td>30885</td>\n",
       "      <td>0</td>\n",
       "      <td>AKL</td>\n",
       "      <td>...</td>\n",
       "      <td>AKLHKGSVO</td>\n",
       "      <td>XK</td>\n",
       "      <td>G</td>\n",
       "      <td>Y</td>\n",
       "      <td>2013-04-24 23:59:00</td>\n",
       "      <td>2013-04-25 16:06:31</td>\n",
       "      <td>1</td>\n",
       "      <td>2013</td>\n",
       "      <td>3</td>\n",
       "      <td>SYDA82546</td>\n",
       "    </tr>\n",
       "    <tr>\n",
       "      <th>4</th>\n",
       "      <td>2013-03-26 00:00:00</td>\n",
       "      <td>1A</td>\n",
       "      <td>AU</td>\n",
       "      <td>0f984b3bb6bd06661c95529bbd6193bc</td>\n",
       "      <td>36472c6dbaf7afec9136ac40364e2794</td>\n",
       "      <td>5ecf00fdcbcec761c43dc7285253d0c1</td>\n",
       "      <td>2013-03-26 00:00:00</td>\n",
       "      <td>30885</td>\n",
       "      <td>0</td>\n",
       "      <td>AKL</td>\n",
       "      <td>...</td>\n",
       "      <td>SVOHKGAKL</td>\n",
       "      <td>XK</td>\n",
       "      <td>G</td>\n",
       "      <td>Y</td>\n",
       "      <td>2013-05-14 20:15:00</td>\n",
       "      <td>2013-05-16 10:44:50</td>\n",
       "      <td>1</td>\n",
       "      <td>2013</td>\n",
       "      <td>3</td>\n",
       "      <td>SYDA82546</td>\n",
       "    </tr>\n",
       "  </tbody>\n",
       "</table>\n",
       "<p>5 rows × 38 columns</p>\n",
       "</div>"
      ],
      "text/plain": [
       "   act_date             source  pos_ctry                          pos_iata  \\\n",
       "0  2013-03-05 00:00:00  1A      DE        a68dd7ae953c8acfb187a1af2dcbe123   \n",
       "1  2013-03-26 00:00:00  1A      US        e612b9eeeee6f17f42d9b0d3b79e75ca   \n",
       "2  2013-03-26 00:00:00  1A      US        e612b9eeeee6f17f42d9b0d3b79e75ca   \n",
       "3  2013-03-26 00:00:00  1A      AU        0f984b3bb6bd06661c95529bbd6193bc   \n",
       "4  2013-03-26 00:00:00  1A      AU        0f984b3bb6bd06661c95529bbd6193bc   \n",
       "\n",
       "                          pos_oid                      rloc            \\\n",
       "0  1a11ae49fcbf545fd2afc1a24d88d2b7  ea65900e72d71f4626378e2ebd298267   \n",
       "1  7437560d8f276d6d05eeb806d9e7edee  737295a86982c941f1c2da9a46a14043   \n",
       "2  7437560d8f276d6d05eeb806d9e7edee  737295a86982c941f1c2da9a46a14043   \n",
       "3  36472c6dbaf7afec9136ac40364e2794  5ecf00fdcbcec761c43dc7285253d0c1   \n",
       "4  36472c6dbaf7afec9136ac40364e2794  5ecf00fdcbcec761c43dc7285253d0c1   \n",
       "\n",
       "   cre_date             duration  distance  dep_port  ...  route            \\\n",
       "0  2013-02-22 00:00:00      1708         0  ZRH       ...  LHRZRH            \n",
       "1  2013-03-26 00:00:00    135270         0  SAL       ...  SALATLCLT         \n",
       "2  2013-03-26 00:00:00    135270         0  SAL       ...  CLTATLSAL         \n",
       "3  2013-03-26 00:00:00     30885         0  AKL       ...  AKLHKGSVO         \n",
       "4  2013-03-26 00:00:00     30885         0  AKL       ...  SVOHKGAKL         \n",
       "\n",
       "  carrier  bkg_class  cab_class  brd_time             off_time            pax  \\\n",
       "0      VI  T          Y          2013-03-07 08:50:00  2013-03-07 11:33:37  -1   \n",
       "1      NV  L          Y          2013-04-12 13:04:00  2013-04-12 22:05:40   1   \n",
       "2      NV  U          Y          2013-07-15 07:00:00  2013-07-15 11:34:51   1   \n",
       "3      XK  G          Y          2013-04-24 23:59:00  2013-04-25 16:06:31   1   \n",
       "4      XK  G          Y          2013-05-14 20:15:00  2013-05-16 10:44:50   1   \n",
       "\n",
       "   year month  oid        \n",
       "0  2013     3  NULL       \n",
       "1  2013     3  NULL       \n",
       "2  2013     3  NULL       \n",
       "3  2013     3  SYDA82546  \n",
       "4  2013     3  SYDA82546  \n",
       "\n",
       "[5 rows x 38 columns]"
      ]
     },
     "execution_count": 17,
     "metadata": {},
     "output_type": "execute_result"
    }
   ],
   "source": [
    "bk_df.head()"
   ]
  },
  {
   "cell_type": "code",
   "execution_count": 18,
   "id": "195d102e",
   "metadata": {},
   "outputs": [
    {
     "data": {
      "text/html": [
       "<div>\n",
       "<style scoped>\n",
       "    .dataframe tbody tr th:only-of-type {\n",
       "        vertical-align: middle;\n",
       "    }\n",
       "\n",
       "    .dataframe tbody tr th {\n",
       "        vertical-align: top;\n",
       "    }\n",
       "\n",
       "    .dataframe thead th {\n",
       "        text-align: right;\n",
       "    }\n",
       "</style>\n",
       "<table border=\"1\" class=\"dataframe\">\n",
       "  <thead>\n",
       "    <tr style=\"text-align: right;\">\n",
       "      <th></th>\n",
       "      <th>Date</th>\n",
       "      <th>Time</th>\n",
       "      <th>TxnCode</th>\n",
       "      <th>OfficeID</th>\n",
       "      <th>Country</th>\n",
       "      <th>Origin</th>\n",
       "      <th>Destination</th>\n",
       "      <th>RoundTrip</th>\n",
       "      <th>NbSegments</th>\n",
       "      <th>Seg1Departure</th>\n",
       "      <th>...</th>\n",
       "      <th>Seg6Arrival</th>\n",
       "      <th>Seg6Date</th>\n",
       "      <th>Seg6Carrier</th>\n",
       "      <th>Seg6BookingCode</th>\n",
       "      <th>From</th>\n",
       "      <th>IsPublishedForNeg</th>\n",
       "      <th>IsFromInternet</th>\n",
       "      <th>IsFromVista</th>\n",
       "      <th>TerminalID</th>\n",
       "      <th>InternetOffice</th>\n",
       "    </tr>\n",
       "  </thead>\n",
       "  <tbody>\n",
       "    <tr>\n",
       "      <th>0</th>\n",
       "      <td>2013-01-01</td>\n",
       "      <td>20:25:57</td>\n",
       "      <td>MPT</td>\n",
       "      <td>624d8c3ac0b3a7ca03e3c167e0f48327</td>\n",
       "      <td>DE</td>\n",
       "      <td>TXL</td>\n",
       "      <td>AUH</td>\n",
       "      <td>1</td>\n",
       "      <td>2</td>\n",
       "      <td>TXL</td>\n",
       "      <td>...</td>\n",
       "      <td>NaN</td>\n",
       "      <td>NaN</td>\n",
       "      <td>NaN</td>\n",
       "      <td>NaN</td>\n",
       "      <td>1ASIWS</td>\n",
       "      <td>0</td>\n",
       "      <td>0</td>\n",
       "      <td>0</td>\n",
       "      <td>d41d8cd98f00b204e9800998ecf8427e</td>\n",
       "      <td>FRA</td>\n",
       "    </tr>\n",
       "    <tr>\n",
       "      <th>1</th>\n",
       "      <td>2013-01-01</td>\n",
       "      <td>10:15:33</td>\n",
       "      <td>MPT</td>\n",
       "      <td>b0af35b31588dc4ab06d5cf2986e8e02</td>\n",
       "      <td>MD</td>\n",
       "      <td>ATH</td>\n",
       "      <td>MIL</td>\n",
       "      <td>0</td>\n",
       "      <td>1</td>\n",
       "      <td>ATH</td>\n",
       "      <td>...</td>\n",
       "      <td>NaN</td>\n",
       "      <td>NaN</td>\n",
       "      <td>NaN</td>\n",
       "      <td>NaN</td>\n",
       "      <td>1ASIWS</td>\n",
       "      <td>0</td>\n",
       "      <td>0</td>\n",
       "      <td>0</td>\n",
       "      <td>d41d8cd98f00b204e9800998ecf8427e</td>\n",
       "      <td>KIV</td>\n",
       "    </tr>\n",
       "    <tr>\n",
       "      <th>2</th>\n",
       "      <td>2013-01-01</td>\n",
       "      <td>18:04:49</td>\n",
       "      <td>MPT</td>\n",
       "      <td>3561a60621de06ab1badc8ca55699ef3</td>\n",
       "      <td>US</td>\n",
       "      <td>ICT</td>\n",
       "      <td>SFO</td>\n",
       "      <td>1</td>\n",
       "      <td>2</td>\n",
       "      <td>ICT</td>\n",
       "      <td>...</td>\n",
       "      <td>NaN</td>\n",
       "      <td>NaN</td>\n",
       "      <td>NaN</td>\n",
       "      <td>NaN</td>\n",
       "      <td>1ASIWS</td>\n",
       "      <td>0</td>\n",
       "      <td>0</td>\n",
       "      <td>0</td>\n",
       "      <td>d41d8cd98f00b204e9800998ecf8427e</td>\n",
       "      <td>NYC</td>\n",
       "    </tr>\n",
       "    <tr>\n",
       "      <th>3</th>\n",
       "      <td>2013-01-01</td>\n",
       "      <td>17:42:40</td>\n",
       "      <td>FXP</td>\n",
       "      <td>1864e5e8013d9414150e91d26b6a558b</td>\n",
       "      <td>SE</td>\n",
       "      <td>RNB</td>\n",
       "      <td>ARN</td>\n",
       "      <td>0</td>\n",
       "      <td>1</td>\n",
       "      <td>RNB</td>\n",
       "      <td>...</td>\n",
       "      <td>NaN</td>\n",
       "      <td>NaN</td>\n",
       "      <td>NaN</td>\n",
       "      <td>NaN</td>\n",
       "      <td>1ASI</td>\n",
       "      <td>0</td>\n",
       "      <td>0</td>\n",
       "      <td>0</td>\n",
       "      <td>d41d8cd98f00b204e9800998ecf8427e</td>\n",
       "      <td>STO</td>\n",
       "    </tr>\n",
       "    <tr>\n",
       "      <th>4</th>\n",
       "      <td>2013-01-01</td>\n",
       "      <td>17:48:29</td>\n",
       "      <td>MPT</td>\n",
       "      <td>1ec336348f44207d2e0027dc3a68c118</td>\n",
       "      <td>NO</td>\n",
       "      <td>OSL</td>\n",
       "      <td>MAD</td>\n",
       "      <td>1</td>\n",
       "      <td>2</td>\n",
       "      <td>OSL</td>\n",
       "      <td>...</td>\n",
       "      <td>NaN</td>\n",
       "      <td>NaN</td>\n",
       "      <td>NaN</td>\n",
       "      <td>NaN</td>\n",
       "      <td>1ASIWS</td>\n",
       "      <td>0</td>\n",
       "      <td>0</td>\n",
       "      <td>0</td>\n",
       "      <td>d41d8cd98f00b204e9800998ecf8427e</td>\n",
       "      <td>OSL</td>\n",
       "    </tr>\n",
       "  </tbody>\n",
       "</table>\n",
       "<p>5 rows × 45 columns</p>\n",
       "</div>"
      ],
      "text/plain": [
       "         Date      Time TxnCode                          OfficeID Country  \\\n",
       "0  2013-01-01  20:25:57     MPT  624d8c3ac0b3a7ca03e3c167e0f48327      DE   \n",
       "1  2013-01-01  10:15:33     MPT  b0af35b31588dc4ab06d5cf2986e8e02      MD   \n",
       "2  2013-01-01  18:04:49     MPT  3561a60621de06ab1badc8ca55699ef3      US   \n",
       "3  2013-01-01  17:42:40     FXP  1864e5e8013d9414150e91d26b6a558b      SE   \n",
       "4  2013-01-01  17:48:29     MPT  1ec336348f44207d2e0027dc3a68c118      NO   \n",
       "\n",
       "  Origin Destination  RoundTrip  NbSegments Seg1Departure  ... Seg6Arrival  \\\n",
       "0    TXL         AUH          1           2           TXL  ...         NaN   \n",
       "1    ATH         MIL          0           1           ATH  ...         NaN   \n",
       "2    ICT         SFO          1           2           ICT  ...         NaN   \n",
       "3    RNB         ARN          0           1           RNB  ...         NaN   \n",
       "4    OSL         MAD          1           2           OSL  ...         NaN   \n",
       "\n",
       "  Seg6Date Seg6Carrier Seg6BookingCode    From IsPublishedForNeg  \\\n",
       "0      NaN         NaN             NaN  1ASIWS                 0   \n",
       "1      NaN         NaN             NaN  1ASIWS                 0   \n",
       "2      NaN         NaN             NaN  1ASIWS                 0   \n",
       "3      NaN         NaN             NaN    1ASI                 0   \n",
       "4      NaN         NaN             NaN  1ASIWS                 0   \n",
       "\n",
       "  IsFromInternet IsFromVista                        TerminalID InternetOffice  \n",
       "0              0           0  d41d8cd98f00b204e9800998ecf8427e            FRA  \n",
       "1              0           0  d41d8cd98f00b204e9800998ecf8427e            KIV  \n",
       "2              0           0  d41d8cd98f00b204e9800998ecf8427e            NYC  \n",
       "3              0           0  d41d8cd98f00b204e9800998ecf8427e            STO  \n",
       "4              0           0  d41d8cd98f00b204e9800998ecf8427e            OSL  \n",
       "\n",
       "[5 rows x 45 columns]"
      ]
     },
     "execution_count": 18,
     "metadata": {},
     "output_type": "execute_result"
    }
   ],
   "source": [
    "sh_df.head()"
   ]
  },
  {
   "cell_type": "code",
   "execution_count": 19,
   "id": "1b4a05f2",
   "metadata": {},
   "outputs": [
    {
     "data": {
      "text/plain": [
       "act_date               object\n",
       "source                 object\n",
       "pos_ctry               object\n",
       "pos_iata               object\n",
       "pos_oid                object\n",
       "rloc                   object\n",
       "cre_date               object\n",
       "duration                int64\n",
       "distance                int64\n",
       "dep_port               object\n",
       "dep_city               object\n",
       "dep_ctry               object\n",
       "arr_port               object\n",
       "arr_city               object\n",
       "arr_ctry               object\n",
       "lst_port               object\n",
       "lst_city               object\n",
       "lst_ctry               object\n",
       "brd_port               object\n",
       "brd_city               object\n",
       "brd_ctry               object\n",
       "off_port               object\n",
       "off_city               object\n",
       "off_ctry               object\n",
       "mkt_port               object\n",
       "mkt_city               object\n",
       "mkt_ctry               object\n",
       "intl                    int64\n",
       "route                  object\n",
       "carrier                object\n",
       "bkg_class              object\n",
       "cab_class              object\n",
       "brd_time               object\n",
       "off_time               object\n",
       "pax                     int64\n",
       "year                    int64\n",
       "month                   int64\n",
       "oid                    object\n",
       "dtype: object"
      ]
     },
     "execution_count": 19,
     "metadata": {},
     "output_type": "execute_result"
    }
   ],
   "source": [
    "bk_df.dtypes"
   ]
  },
  {
   "cell_type": "markdown",
   "id": "ee063872",
   "metadata": {},
   "source": [
    "## Some Data Munging"
   ]
  },
  {
   "cell_type": "code",
   "execution_count": 20,
   "id": "8ca46168",
   "metadata": {},
   "outputs": [
    {
     "data": {
      "text/plain": [
       "Index(['ACT_DATE', 'SOURCE', 'POS_CTRY', 'POS_IATA', 'POS_OID', 'RLOC',\n",
       "       'CRE_DATE', 'DURATION', 'DISTANCE', 'DEP_PORT', 'DEP_CITY', 'DEP_CTRY',\n",
       "       'ARR_PORT', 'ARR_CITY', 'ARR_CTRY', 'LST_PORT', 'LST_CITY', 'LST_CTRY',\n",
       "       'BRD_PORT', 'BRD_CITY', 'BRD_CTRY', 'OFF_PORT', 'OFF_CITY', 'OFF_CTRY',\n",
       "       'MKT_PORT', 'MKT_CITY', 'MKT_CTRY', 'INTL', 'ROUTE', 'CARRIER',\n",
       "       'BKG_CLASS', 'CAB_CLASS', 'BRD_TIME', 'OFF_TIME', 'PAX', 'YEAR',\n",
       "       'MONTH', 'OID'],\n",
       "      dtype='object')"
      ]
     },
     "execution_count": 20,
     "metadata": {},
     "output_type": "execute_result"
    }
   ],
   "source": [
    "#remove blanks from column name\n",
    "bk_df.columns = bk_df.columns.str.replace(' ', '').str.upper()\n",
    "bk_df.columns"
   ]
  },
  {
   "cell_type": "code",
   "execution_count": 21,
   "id": "5032324c",
   "metadata": {},
   "outputs": [
    {
     "name": "stdout",
     "output_type": "stream",
     "text": [
      "ACT_DATE - object\n",
      "SOURCE - object\n",
      "POS_CTRY - object\n",
      "POS_IATA - object\n",
      "POS_OID - object\n",
      "RLOC - object\n",
      "CRE_DATE - object\n",
      "DURATION - int64\n",
      "DISTANCE - int64\n",
      "DEP_PORT - object\n",
      "DEP_CITY - object\n",
      "DEP_CTRY - object\n",
      "ARR_PORT - object\n",
      "ARR_CITY - object\n",
      "ARR_CTRY - object\n",
      "LST_PORT - object\n",
      "LST_CITY - object\n",
      "LST_CTRY - object\n",
      "BRD_PORT - object\n",
      "BRD_CITY - object\n",
      "BRD_CTRY - object\n",
      "OFF_PORT - object\n",
      "OFF_CITY - object\n",
      "OFF_CTRY - object\n",
      "MKT_PORT - object\n",
      "MKT_CITY - object\n",
      "MKT_CTRY - object\n",
      "INTL - int64\n",
      "ROUTE - object\n",
      "CARRIER - object\n",
      "BKG_CLASS - object\n",
      "CAB_CLASS - object\n",
      "BRD_TIME - object\n",
      "OFF_TIME - object\n",
      "PAX - int64\n",
      "YEAR - int64\n",
      "MONTH - int64\n",
      "OID - object\n"
     ]
    }
   ],
   "source": [
    "for col in bk_df.columns:\n",
    "    print (col,\"-\", bk_df[col].dtypes)"
   ]
  },
  {
   "cell_type": "markdown",
   "id": "eaf21771",
   "metadata": {},
   "source": [
    "# Exercise 2  <a name=\"Exercise2\"></a>\n",
    "\n",
    "Top 10 arrival airports in the world in 2013 (using the bookings file)\n",
    "\n",
    "• Arrival airport is the column arr_port. It is the IATA code for the airport\n",
    "• To get the total number of passengers for an airport, you can sum the column\n",
    "pax, grouping by arr_port. Note that there is negative pax. That corresponds to\n",
    "cancelations. So to get the total number of passengers that have actually\n",
    "booked, you should sum including the negatives (that will remove the canceled\n",
    "bookings).\n",
    "• Print the top 10 arrival airports in the standard output, including the number of\n",
    "passengers.\n",
    "\n",
    "• Bonus point: Get the name of the city or airport corresponding to that airport\n",
    "(programatically, we suggest to have a look at GeoBases in Github)\n",
    "\n",
    "• Bonus point: Solve this problem using pandas (instead of any other approach\n"
   ]
  },
  {
   "cell_type": "markdown",
   "id": "e76f0396",
   "metadata": {},
   "source": [
    "## First aproach - working with sample files"
   ]
  },
  {
   "cell_type": "code",
   "execution_count": 22,
   "id": "15d07114",
   "metadata": {},
   "outputs": [],
   "source": [
    "#Top 10 arrival airports in the world in 2013, columns  arr_port (IATA airport),  pax (passengers)\n",
    "bk_df[bk_df.isnull()].sum()\n",
    "#s1_bk_df=pd.DataFrame()\n",
    "bk_df_clean=bk_df.dropna()\n"
   ]
  },
  {
   "cell_type": "code",
   "execution_count": 23,
   "id": "1758d77d",
   "metadata": {},
   "outputs": [
    {
     "name": "stderr",
     "output_type": "stream",
     "text": [
      "/home/dsc/anaconda3/lib/python3.8/site-packages/pandas/core/indexing.py:1773: SettingWithCopyWarning: \n",
      "A value is trying to be set on a copy of a slice from a DataFrame.\n",
      "Try using .loc[row_indexer,col_indexer] = value instead\n",
      "\n",
      "See the caveats in the documentation: https://pandas.pydata.org/pandas-docs/stable/user_guide/indexing.html#returning-a-view-versus-a-copy\n",
      "  self._setitem_single_column(ilocs[0], value, pi)\n"
     ]
    },
    {
     "data": {
      "text/html": [
       "<div>\n",
       "<style scoped>\n",
       "    .dataframe tbody tr th:only-of-type {\n",
       "        vertical-align: middle;\n",
       "    }\n",
       "\n",
       "    .dataframe tbody tr th {\n",
       "        vertical-align: top;\n",
       "    }\n",
       "\n",
       "    .dataframe thead th {\n",
       "        text-align: right;\n",
       "    }\n",
       "</style>\n",
       "<table border=\"1\" class=\"dataframe\">\n",
       "  <thead>\n",
       "    <tr style=\"text-align: right;\">\n",
       "      <th></th>\n",
       "      <th>ARR_PORT</th>\n",
       "      <th>PAX</th>\n",
       "      <th>YEAR</th>\n",
       "    </tr>\n",
       "  </thead>\n",
       "  <tbody>\n",
       "    <tr>\n",
       "      <th>0</th>\n",
       "      <td>LHR</td>\n",
       "      <td>-1</td>\n",
       "      <td>2013</td>\n",
       "    </tr>\n",
       "    <tr>\n",
       "      <th>1</th>\n",
       "      <td>CLT</td>\n",
       "      <td>1</td>\n",
       "      <td>2013</td>\n",
       "    </tr>\n",
       "    <tr>\n",
       "      <th>2</th>\n",
       "      <td>CLT</td>\n",
       "      <td>1</td>\n",
       "      <td>2013</td>\n",
       "    </tr>\n",
       "    <tr>\n",
       "      <th>3</th>\n",
       "      <td>SVO</td>\n",
       "      <td>1</td>\n",
       "      <td>2013</td>\n",
       "    </tr>\n",
       "    <tr>\n",
       "      <th>4</th>\n",
       "      <td>SVO</td>\n",
       "      <td>1</td>\n",
       "      <td>2013</td>\n",
       "    </tr>\n",
       "  </tbody>\n",
       "</table>\n",
       "</div>"
      ],
      "text/plain": [
       "  ARR_PORT  PAX  YEAR\n",
       "0      LHR   -1  2013\n",
       "1      CLT    1  2013\n",
       "2      CLT    1  2013\n",
       "3      SVO    1  2013\n",
       "4      SVO    1  2013"
      ]
     },
     "execution_count": 23,
     "metadata": {},
     "output_type": "execute_result"
    }
   ],
   "source": [
    "bk_df_arrport=bk_df_clean[['ARR_PORT','PAX','YEAR']]\n",
    "bk_df_arrport.loc[:,\"ARR_PORT\"] = bk_df_arrport[\"ARR_PORT\"].str.strip().str.upper()\n",
    "\n",
    "bk_df_arrport.head()"
   ]
  },
  {
   "cell_type": "code",
   "execution_count": null,
   "id": "97be5ab0",
   "metadata": {},
   "outputs": [],
   "source": []
  },
  {
   "cell_type": "code",
   "execution_count": 24,
   "id": "9dd58dc8",
   "metadata": {},
   "outputs": [],
   "source": [
    "bk_df_arrport['YEAR'].unique()\n",
    "#bk_df_arrport['ARR_PORT'].unique()\n",
    "bk_df_arrport=bk_df_arrport.drop(columns=['YEAR'])"
   ]
  },
  {
   "cell_type": "code",
   "execution_count": 25,
   "id": "2fd6c21d",
   "metadata": {},
   "outputs": [
    {
     "data": {
      "text/html": [
       "<div>\n",
       "<style scoped>\n",
       "    .dataframe tbody tr th:only-of-type {\n",
       "        vertical-align: middle;\n",
       "    }\n",
       "\n",
       "    .dataframe tbody tr th {\n",
       "        vertical-align: top;\n",
       "    }\n",
       "\n",
       "    .dataframe thead th {\n",
       "        text-align: right;\n",
       "    }\n",
       "</style>\n",
       "<table border=\"1\" class=\"dataframe\">\n",
       "  <thead>\n",
       "    <tr style=\"text-align: right;\">\n",
       "      <th></th>\n",
       "      <th>PAX</th>\n",
       "    </tr>\n",
       "    <tr>\n",
       "      <th>ARR_PORT</th>\n",
       "      <th></th>\n",
       "    </tr>\n",
       "  </thead>\n",
       "  <tbody>\n",
       "    <tr>\n",
       "      <th>HKG</th>\n",
       "      <td>112</td>\n",
       "    </tr>\n",
       "    <tr>\n",
       "      <th>LGA</th>\n",
       "      <td>95</td>\n",
       "    </tr>\n",
       "    <tr>\n",
       "      <th>ORD</th>\n",
       "      <td>94</td>\n",
       "    </tr>\n",
       "    <tr>\n",
       "      <th>JFK</th>\n",
       "      <td>92</td>\n",
       "    </tr>\n",
       "    <tr>\n",
       "      <th>LAX</th>\n",
       "      <td>91</td>\n",
       "    </tr>\n",
       "    <tr>\n",
       "      <th>SFO</th>\n",
       "      <td>91</td>\n",
       "    </tr>\n",
       "    <tr>\n",
       "      <th>MCO</th>\n",
       "      <td>90</td>\n",
       "    </tr>\n",
       "    <tr>\n",
       "      <th>DCA</th>\n",
       "      <td>82</td>\n",
       "    </tr>\n",
       "    <tr>\n",
       "      <th>DEN</th>\n",
       "      <td>79</td>\n",
       "    </tr>\n",
       "    <tr>\n",
       "      <th>LHR</th>\n",
       "      <td>76</td>\n",
       "    </tr>\n",
       "  </tbody>\n",
       "</table>\n",
       "</div>"
      ],
      "text/plain": [
       "          PAX\n",
       "ARR_PORT     \n",
       "HKG       112\n",
       "LGA        95\n",
       "ORD        94\n",
       "JFK        92\n",
       "LAX        91\n",
       "SFO        91\n",
       "MCO        90\n",
       "DCA        82\n",
       "DEN        79\n",
       "LHR        76"
      ]
     },
     "execution_count": 25,
     "metadata": {},
     "output_type": "execute_result"
    }
   ],
   "source": [
    "bk_df_arrport.groupby(by='ARR_PORT').sum().sort_values(by ='PAX' ,ascending=False).head(10)"
   ]
  },
  {
   "cell_type": "markdown",
   "id": "d1d66dc0",
   "metadata": {},
   "source": [
    "## Solving exercise 2 with chunks  <a name=\"Sol2\"></a>\n",
    "\n",
    "Large data  (20GB-25GB) se puede trabajar en e lportatil pero no se puede procesar directametnte.\n",
    "\n",
    "Los iteradores ,como chunk, cuando se leen y se llega al final, la memoría de l mismo se vacía. Por eso al crear un chunck, ejecutar for sobre el mismo e intentar volverlo a hacer... puede leer vacío.."
   ]
  },
  {
   "cell_type": "markdown",
   "id": "cd02ed38",
   "metadata": {},
   "source": [
    "NOTAS: \n",
    "chunksize controlado con nrows sirve tambien como sample antes de atacar la base conpleta\n",
    "\n",
    "bookings_chunks=\n",
    "\n",
    "partials=[]\n",
    "\n",
    "for chunak in bookings_chunks:\n",
    "    partial=chunk.grouoby('arr_port')['pax'].sum()\n",
    "    \n",
    "    partials.append(partial)\n",
    "    \n",
    "partials\n",
    "\n",
    "pd.concat(partials).groupby(by=)"
   ]
  },
  {
   "cell_type": "code",
   "execution_count": 3,
   "id": "3db2f83c",
   "metadata": {
    "scrolled": true
   },
   "outputs": [],
   "source": [
    "#preparamos la importación del fichero con chuncks para poder tratarlo\n",
    "\n",
    "#bk_df= pd.read_csv('./bookings.sample.csv.bz2', compression='bz2',  sep='^', chunksize=)\n",
    "#filename='./bookings.sample.csv.bz2'\n",
    "filename='/home/dsc/data/challenge/bookings.csv.bz2'\n",
    "chunksize = 10000\n",
    "list_of_chunks=[]\n",
    "\n",
    "nchunk=0\n",
    "with pd.read_csv(filename, compression='bz2',  sep='^', chunksize=chunksize) as reader:\n",
    "    for chunk in reader:\n",
    "        \n",
    "        chunk.columns = chunk.columns.str.replace(' ', '').str.upper() #remove blanks from column name\n",
    "        chunk_airports=chunk[['ARR_PORT','PAX','YEAR']].dropna() # filtering columns and removing NaN      \n",
    "        chunk_airports['ARR_PORT']=chunk_airports['ARR_PORT'].str.strip() #remove blanks in column arr_port\n",
    "        chunk_airports=chunk_airports[chunk_airports['YEAR']==2013] #filtering by year - 2013 (in case there are any other values in the full data)\n",
    "        chunk_airports=chunk_airports.drop(columns=['YEAR'])\n",
    "        chunk_airports_out=chunk_airports.groupby(by='ARR_PORT').sum()\n",
    "        \n",
    "        list_of_chunks.append(chunk_airports_out)\n",
    "        nchunk=+1\n",
    "        \n",
    "        \n",
    "final_tble=pd.concat(list_of_chunks)\n",
    "#print (f'número de chunks= {nchunk}')\n",
    "                     \n",
    "top_10_airports=final_tble.groupby(by='ARR_PORT').sum().sort_values(by ='PAX' ,ascending=False).head(10)                                   "
   ]
  },
  {
   "cell_type": "code",
   "execution_count": 27,
   "id": "9659a615",
   "metadata": {},
   "outputs": [
    {
     "data": {
      "text/plain": [
       "PAX    float64\n",
       "dtype: object"
      ]
     },
     "execution_count": 27,
     "metadata": {},
     "output_type": "execute_result"
    }
   ],
   "source": [
    "top_10_airports.dtypes"
   ]
  },
  {
   "cell_type": "code",
   "execution_count": 28,
   "id": "b7fb1aae",
   "metadata": {},
   "outputs": [
    {
     "data": {
      "text/html": [
       "<div>\n",
       "<style scoped>\n",
       "    .dataframe tbody tr th:only-of-type {\n",
       "        vertical-align: middle;\n",
       "    }\n",
       "\n",
       "    .dataframe tbody tr th {\n",
       "        vertical-align: top;\n",
       "    }\n",
       "\n",
       "    .dataframe thead th {\n",
       "        text-align: right;\n",
       "    }\n",
       "</style>\n",
       "<table border=\"1\" class=\"dataframe\">\n",
       "  <thead>\n",
       "    <tr style=\"text-align: right;\">\n",
       "      <th></th>\n",
       "      <th>PAX</th>\n",
       "    </tr>\n",
       "    <tr>\n",
       "      <th>ARR_PORT</th>\n",
       "      <th></th>\n",
       "    </tr>\n",
       "  </thead>\n",
       "  <tbody>\n",
       "    <tr>\n",
       "      <th>LHR</th>\n",
       "      <td>88,809</td>\n",
       "    </tr>\n",
       "    <tr>\n",
       "      <th>MCO</th>\n",
       "      <td>70,930</td>\n",
       "    </tr>\n",
       "    <tr>\n",
       "      <th>LAX</th>\n",
       "      <td>70,530</td>\n",
       "    </tr>\n",
       "    <tr>\n",
       "      <th>LAS</th>\n",
       "      <td>69,630</td>\n",
       "    </tr>\n",
       "    <tr>\n",
       "      <th>JFK</th>\n",
       "      <td>66,270</td>\n",
       "    </tr>\n",
       "    <tr>\n",
       "      <th>CDG</th>\n",
       "      <td>64,490</td>\n",
       "    </tr>\n",
       "    <tr>\n",
       "      <th>BKK</th>\n",
       "      <td>59,460</td>\n",
       "    </tr>\n",
       "    <tr>\n",
       "      <th>MIA</th>\n",
       "      <td>58,150</td>\n",
       "    </tr>\n",
       "    <tr>\n",
       "      <th>SFO</th>\n",
       "      <td>58,000</td>\n",
       "    </tr>\n",
       "    <tr>\n",
       "      <th>DXB</th>\n",
       "      <td>55,590</td>\n",
       "    </tr>\n",
       "  </tbody>\n",
       "</table>\n",
       "</div>"
      ],
      "text/plain": [
       "            PAX\n",
       "ARR_PORT       \n",
       "LHR      88,809\n",
       "MCO      70,930\n",
       "LAX      70,530\n",
       "LAS      69,630\n",
       "JFK      66,270\n",
       "CDG      64,490\n",
       "BKK      59,460\n",
       "MIA      58,150\n",
       "SFO      58,000\n",
       "DXB      55,590"
      ]
     },
     "execution_count": 28,
     "metadata": {},
     "output_type": "execute_result"
    }
   ],
   "source": [
    "#format output for final output\n",
    "pd.options.display.float_format = \"{:,.0f}\".format\n",
    "top_10_airports=final_tble.groupby(by='ARR_PORT').sum().sort_values(by ='PAX' ,ascending=False).head(10)                   \n",
    "\n",
    "top_10_airports\n"
   ]
  },
  {
   "cell_type": "code",
   "execution_count": null,
   "id": "99ebe7d9",
   "metadata": {},
   "outputs": [],
   "source": [
    "# técnica mas simple  -> indicar columnas a la hora de leer\n",
    "# con el usecols reducimos el espacio de trabajo\n",
    "all_columns.info(0 )"
   ]
  },
  {
   "cell_type": "code",
   "execution_count": null,
   "id": "cda4d7f4",
   "metadata": {},
   "outputs": [],
   "source": []
  },
  {
   "cell_type": "code",
   "execution_count": null,
   "id": "65a347f1",
   "metadata": {},
   "outputs": [],
   "source": []
  },
  {
   "cell_type": "code",
   "execution_count": null,
   "id": "cd7c809a",
   "metadata": {},
   "outputs": [],
   "source": []
  },
  {
   "cell_type": "markdown",
   "id": "fcfa0d18",
   "metadata": {},
   "source": [
    "### Loaded to local : data file airports (IATA & city + country) from Github"
   ]
  },
  {
   "cell_type": "code",
   "execution_count": 4,
   "id": "81ee09e4",
   "metadata": {},
   "outputs": [],
   "source": [
    "#changing back the format to capture decimal units\n",
    "pd.options.display.float_format = \"{:,.2f}\".format"
   ]
  },
  {
   "cell_type": "code",
   "execution_count": 5,
   "id": "677e44b4",
   "metadata": {},
   "outputs": [
    {
     "data": {
      "text/html": [
       "<div>\n",
       "<style scoped>\n",
       "    .dataframe tbody tr th:only-of-type {\n",
       "        vertical-align: middle;\n",
       "    }\n",
       "\n",
       "    .dataframe tbody tr th {\n",
       "        vertical-align: top;\n",
       "    }\n",
       "\n",
       "    .dataframe thead th {\n",
       "        text-align: right;\n",
       "    }\n",
       "</style>\n",
       "<table border=\"1\" class=\"dataframe\">\n",
       "  <thead>\n",
       "    <tr style=\"text-align: right;\">\n",
       "      <th></th>\n",
       "      <th>ARR_PORT</th>\n",
       "      <th>CITY</th>\n",
       "      <th>IATA</th>\n",
       "      <th>cod</th>\n",
       "      <th>COUNTRY</th>\n",
       "      <th>coord_X</th>\n",
       "      <th>coord_Y</th>\n",
       "    </tr>\n",
       "  </thead>\n",
       "  <tbody>\n",
       "    <tr>\n",
       "      <th>0</th>\n",
       "      <td>AUH</td>\n",
       "      <td>Abu Dhabi International Airport</td>\n",
       "      <td>AUH</td>\n",
       "      <td>AE</td>\n",
       "      <td>United Arab Emirates</td>\n",
       "      <td>24.43</td>\n",
       "      <td>54.65</td>\n",
       "    </tr>\n",
       "    <tr>\n",
       "      <th>1</th>\n",
       "      <td>AZI</td>\n",
       "      <td>Abu Dhabi Bateen Airport</td>\n",
       "      <td>AUH</td>\n",
       "      <td>AE</td>\n",
       "      <td>United Arab Emirates</td>\n",
       "      <td>24.43</td>\n",
       "      <td>54.46</td>\n",
       "    </tr>\n",
       "    <tr>\n",
       "      <th>2</th>\n",
       "      <td>AAN</td>\n",
       "      <td>Al Ain International Airport</td>\n",
       "      <td>AAN</td>\n",
       "      <td>AE</td>\n",
       "      <td>United Arab Emirates</td>\n",
       "      <td>24.26</td>\n",
       "      <td>55.61</td>\n",
       "    </tr>\n",
       "    <tr>\n",
       "      <th>3</th>\n",
       "      <td>DXB</td>\n",
       "      <td>Dubai International Airport</td>\n",
       "      <td>DXB</td>\n",
       "      <td>AE</td>\n",
       "      <td>United Arab Emirates</td>\n",
       "      <td>25.25</td>\n",
       "      <td>55.36</td>\n",
       "    </tr>\n",
       "    <tr>\n",
       "      <th>4</th>\n",
       "      <td>FJR</td>\n",
       "      <td>Fujairah</td>\n",
       "      <td>FJR</td>\n",
       "      <td>AE</td>\n",
       "      <td>United Arab Emirates</td>\n",
       "      <td>25.11</td>\n",
       "      <td>56.32</td>\n",
       "    </tr>\n",
       "  </tbody>\n",
       "</table>\n",
       "</div>"
      ],
      "text/plain": [
       "  ARR_PORT                             CITY IATA cod               COUNTRY  \\\n",
       "0      AUH  Abu Dhabi International Airport  AUH  AE  United Arab Emirates   \n",
       "1      AZI         Abu Dhabi Bateen Airport  AUH  AE  United Arab Emirates   \n",
       "2      AAN     Al Ain International Airport  AAN  AE  United Arab Emirates   \n",
       "3      DXB      Dubai International Airport  DXB  AE  United Arab Emirates   \n",
       "4      FJR                         Fujairah  FJR  AE  United Arab Emirates   \n",
       "\n",
       "   coord_X  coord_Y  \n",
       "0    24.43    54.65  \n",
       "1    24.43    54.46  \n",
       "2    24.26    55.61  \n",
       "3    25.25    55.36  \n",
       "4    25.11    56.32  "
      ]
     },
     "execution_count": 5,
     "metadata": {},
     "output_type": "execute_result"
    }
   ],
   "source": [
    "# github - search: \"geobases\" , \n",
    "# geobases/GeoBases/DataSources/Airports/GeoNames/airports_geonames_only_clean.csv  -raw (right click) and save as ..\n",
    "airports=pd.read_csv('/home/dsc/07_Data_Science_Challenge/airports_geonames_only_clean.csv', sep='^', header =None, \n",
    "                    names=['ARR_PORT', 'CITY', 'IATA','cod','COUNTRY','coord_X','coord_Y'])\n",
    "airports.head()\n"
   ]
  },
  {
   "cell_type": "markdown",
   "id": "12c9157d",
   "metadata": {},
   "source": [
    "### Not need to download the data: data file airports (IATA & city + country) from Github with pandas"
   ]
  },
  {
   "cell_type": "code",
   "execution_count": 6,
   "id": "bde5b54f",
   "metadata": {},
   "outputs": [
    {
     "data": {
      "text/html": [
       "<div>\n",
       "<style scoped>\n",
       "    .dataframe tbody tr th:only-of-type {\n",
       "        vertical-align: middle;\n",
       "    }\n",
       "\n",
       "    .dataframe tbody tr th {\n",
       "        vertical-align: top;\n",
       "    }\n",
       "\n",
       "    .dataframe thead th {\n",
       "        text-align: right;\n",
       "    }\n",
       "</style>\n",
       "<table border=\"1\" class=\"dataframe\">\n",
       "  <thead>\n",
       "    <tr style=\"text-align: right;\">\n",
       "      <th></th>\n",
       "      <th>ARR_PORT</th>\n",
       "      <th>CITY</th>\n",
       "      <th>IATA</th>\n",
       "      <th>cod</th>\n",
       "      <th>COUNTRY</th>\n",
       "      <th>coord_X</th>\n",
       "      <th>coord_Y</th>\n",
       "    </tr>\n",
       "  </thead>\n",
       "  <tbody>\n",
       "    <tr>\n",
       "      <th>0</th>\n",
       "      <td>AUH</td>\n",
       "      <td>Abu Dhabi International Airport</td>\n",
       "      <td>AUH</td>\n",
       "      <td>AE</td>\n",
       "      <td>United Arab Emirates</td>\n",
       "      <td>24.43</td>\n",
       "      <td>54.65</td>\n",
       "    </tr>\n",
       "    <tr>\n",
       "      <th>1</th>\n",
       "      <td>AZI</td>\n",
       "      <td>Abu Dhabi Bateen Airport</td>\n",
       "      <td>AUH</td>\n",
       "      <td>AE</td>\n",
       "      <td>United Arab Emirates</td>\n",
       "      <td>24.43</td>\n",
       "      <td>54.46</td>\n",
       "    </tr>\n",
       "    <tr>\n",
       "      <th>2</th>\n",
       "      <td>AAN</td>\n",
       "      <td>Al Ain International Airport</td>\n",
       "      <td>AAN</td>\n",
       "      <td>AE</td>\n",
       "      <td>United Arab Emirates</td>\n",
       "      <td>24.26</td>\n",
       "      <td>55.61</td>\n",
       "    </tr>\n",
       "    <tr>\n",
       "      <th>3</th>\n",
       "      <td>DXB</td>\n",
       "      <td>Dubai International Airport</td>\n",
       "      <td>DXB</td>\n",
       "      <td>AE</td>\n",
       "      <td>United Arab Emirates</td>\n",
       "      <td>25.25</td>\n",
       "      <td>55.36</td>\n",
       "    </tr>\n",
       "    <tr>\n",
       "      <th>4</th>\n",
       "      <td>FJR</td>\n",
       "      <td>Fujairah</td>\n",
       "      <td>FJR</td>\n",
       "      <td>AE</td>\n",
       "      <td>United Arab Emirates</td>\n",
       "      <td>25.11</td>\n",
       "      <td>56.32</td>\n",
       "    </tr>\n",
       "  </tbody>\n",
       "</table>\n",
       "</div>"
      ],
      "text/plain": [
       "  ARR_PORT                             CITY IATA cod               COUNTRY  \\\n",
       "0      AUH  Abu Dhabi International Airport  AUH  AE  United Arab Emirates   \n",
       "1      AZI         Abu Dhabi Bateen Airport  AUH  AE  United Arab Emirates   \n",
       "2      AAN     Al Ain International Airport  AAN  AE  United Arab Emirates   \n",
       "3      DXB      Dubai International Airport  DXB  AE  United Arab Emirates   \n",
       "4      FJR                         Fujairah  FJR  AE  United Arab Emirates   \n",
       "\n",
       "   coord_X  coord_Y  \n",
       "0    24.43    54.65  \n",
       "1    24.43    54.46  \n",
       "2    24.26    55.61  \n",
       "3    25.25    55.36  \n",
       "4    25.11    56.32  "
      ]
     },
     "execution_count": 6,
     "metadata": {},
     "output_type": "execute_result"
    }
   ],
   "source": [
    "# downloading the data_file directly from github with pandas\n",
    "# entering the raw data \n",
    "url_git_airports = 'https://raw.githubusercontent.com/opentraveldata/geobases/public/GeoBases/DataSources/Airports/GeoNames/airports_geonames_only_clean.csv'\n",
    "airports = pd.read_csv(url_git_airports, sep='^', header =None, \n",
    "                       names=['ARR_PORT', 'CITY', 'IATA','cod','COUNTRY','coord_X','coord_Y'])\n",
    "airports.head()"
   ]
  },
  {
   "cell_type": "code",
   "execution_count": 33,
   "id": "2fd4f125",
   "metadata": {},
   "outputs": [
    {
     "data": {
      "text/plain": [
       "(3559, 7)"
      ]
     },
     "execution_count": 33,
     "metadata": {},
     "output_type": "execute_result"
    }
   ],
   "source": [
    "# checking dimension\n",
    "count_row = airports.shape[0]  # Gives number of rows\n",
    "count_col = airports.shape[1]  # Gives number of columns\n",
    "count_row\n",
    "airports.shape[:]\n",
    "#airports.nunique()"
   ]
  },
  {
   "cell_type": "code",
   "execution_count": 7,
   "id": "6ec2347e",
   "metadata": {},
   "outputs": [
    {
     "data": {
      "text/html": [
       "<div>\n",
       "<style scoped>\n",
       "    .dataframe tbody tr th:only-of-type {\n",
       "        vertical-align: middle;\n",
       "    }\n",
       "\n",
       "    .dataframe tbody tr th {\n",
       "        vertical-align: top;\n",
       "    }\n",
       "\n",
       "    .dataframe thead th {\n",
       "        text-align: right;\n",
       "    }\n",
       "</style>\n",
       "<table border=\"1\" class=\"dataframe\">\n",
       "  <thead>\n",
       "    <tr style=\"text-align: right;\">\n",
       "      <th></th>\n",
       "      <th>ARR_PORT</th>\n",
       "      <th>PAX</th>\n",
       "      <th>CITY</th>\n",
       "      <th>COUNTRY</th>\n",
       "    </tr>\n",
       "  </thead>\n",
       "  <tbody>\n",
       "    <tr>\n",
       "      <th>0</th>\n",
       "      <td>LHR</td>\n",
       "      <td>88,809</td>\n",
       "      <td>London Heathrow Airport</td>\n",
       "      <td>United Kingdom</td>\n",
       "    </tr>\n",
       "    <tr>\n",
       "      <th>1</th>\n",
       "      <td>MCO</td>\n",
       "      <td>70,930</td>\n",
       "      <td>Orlando International Airport</td>\n",
       "      <td>United States</td>\n",
       "    </tr>\n",
       "    <tr>\n",
       "      <th>2</th>\n",
       "      <td>LAX</td>\n",
       "      <td>70,530</td>\n",
       "      <td>Los Angeles International Airport</td>\n",
       "      <td>United States</td>\n",
       "    </tr>\n",
       "    <tr>\n",
       "      <th>3</th>\n",
       "      <td>LAS</td>\n",
       "      <td>69,630</td>\n",
       "      <td>McCarran International Airport</td>\n",
       "      <td>United States</td>\n",
       "    </tr>\n",
       "    <tr>\n",
       "      <th>4</th>\n",
       "      <td>JFK</td>\n",
       "      <td>66,270</td>\n",
       "      <td>John F Kennedy International Airport</td>\n",
       "      <td>United States</td>\n",
       "    </tr>\n",
       "    <tr>\n",
       "      <th>5</th>\n",
       "      <td>CDG</td>\n",
       "      <td>64,490</td>\n",
       "      <td>Paris - Charles-de-Gaulle</td>\n",
       "      <td>France</td>\n",
       "    </tr>\n",
       "    <tr>\n",
       "      <th>6</th>\n",
       "      <td>BKK</td>\n",
       "      <td>59,460</td>\n",
       "      <td>Suvarnabhumi</td>\n",
       "      <td>Thailand</td>\n",
       "    </tr>\n",
       "    <tr>\n",
       "      <th>7</th>\n",
       "      <td>MIA</td>\n",
       "      <td>58,150</td>\n",
       "      <td>Miami International Airport</td>\n",
       "      <td>United States</td>\n",
       "    </tr>\n",
       "    <tr>\n",
       "      <th>8</th>\n",
       "      <td>SFO</td>\n",
       "      <td>58,000</td>\n",
       "      <td>San Francisco International Airport</td>\n",
       "      <td>United States</td>\n",
       "    </tr>\n",
       "    <tr>\n",
       "      <th>9</th>\n",
       "      <td>DXB</td>\n",
       "      <td>55,590</td>\n",
       "      <td>Dubai International Airport</td>\n",
       "      <td>United Arab Emirates</td>\n",
       "    </tr>\n",
       "  </tbody>\n",
       "</table>\n",
       "</div>"
      ],
      "text/plain": [
       "  ARR_PORT    PAX                                  CITY               COUNTRY\n",
       "0      LHR 88,809               London Heathrow Airport        United Kingdom\n",
       "1      MCO 70,930         Orlando International Airport         United States\n",
       "2      LAX 70,530     Los Angeles International Airport         United States\n",
       "3      LAS 69,630        McCarran International Airport         United States\n",
       "4      JFK 66,270  John F Kennedy International Airport         United States\n",
       "5      CDG 64,490             Paris - Charles-de-Gaulle                France\n",
       "6      BKK 59,460                          Suvarnabhumi              Thailand\n",
       "7      MIA 58,150           Miami International Airport         United States\n",
       "8      SFO 58,000   San Francisco International Airport         United States\n",
       "9      DXB 55,590           Dubai International Airport  United Arab Emirates"
      ]
     },
     "execution_count": 7,
     "metadata": {},
     "output_type": "execute_result"
    }
   ],
   "source": [
    "# merging files in order to add cities to top_10_airports_2013\n",
    "top_10_airports_cities_2013=top_10_airports.merge(airports[['ARR_PORT', 'CITY','COUNTRY']],\n",
    "                                                  how='left',left_on='ARR_PORT', right_on='ARR_PORT')\n",
    "\n",
    "pd.options.display.float_format = \"{:,.0f}\".format\n",
    "top_10_airports_cities_2013"
   ]
  },
  {
   "cell_type": "markdown",
   "id": "2d7ac962",
   "metadata": {},
   "source": [
    "# Exercise 3  <a name=\"Exercise3\"></a>\n",
    "\n",
    "Plot the monthly number of searches for flights arriving at Málaga, Madrid or Barcelona\n",
    "\n",
    " • For the arriving airport, you can use the Destination column in the searches file. \n",
    " \n",
    " • Plot a curve for Málaga, another one for Madrid, and another one for Barcelona, in the same figure. \n",
    " \n",
    " • Bonus point: Solving this problem using pandas (instead of any other approach)"
   ]
  },
  {
   "cell_type": "markdown",
   "id": "f5a7d1da",
   "metadata": {},
   "source": [
    "### a tener en cuenta cuando trabajamos con bigdata\n",
    "\n",
    "1. work with sample\n",
    "1. get familiar with the data in the sample (random row line. to avoid retaining only temporal info at one unique period /time.. )\n",
    "1. develope code that works with sample\n",
    "1. modify that code so taht it works with Big Data\n",
    "1. test that Big Data on the sample\n",
    "1. Run the code on Big Data\n",
    "\n"
   ]
  },
  {
   "cell_type": "code",
   "execution_count": 8,
   "id": "f099ac5f",
   "metadata": {
    "scrolled": true
   },
   "outputs": [
    {
     "name": "stdout",
     "output_type": "stream",
     "text": [
      "Date^Time^TxnCode^OfficeID^Country^Origin^Destination^RoundTrip^NbSegments^Seg1Departure^Seg1Arrival^Seg1Date^Seg1Carrier^Seg1BookingCode^Seg2Departure^Seg2Arrival^Seg2Date^Seg2Carrier^Seg2BookingCode^Seg3Departure^Seg3Arrival^Seg3Date^Seg3Carrier^Seg3BookingCode^Seg4Departure^Seg4Arrival^Seg4Date^Seg4Carrier^Seg4BookingCode^Seg5Departure^Seg5Arrival^Seg5Date^Seg5Carrier^Seg5BookingCode^Seg6Departure^Seg6Arrival^Seg6Date^Seg6Carrier^Seg6BookingCode^From^IsPublishedForNeg^IsFromInternet^IsFromVista^TerminalID^InternetOffice\r\n",
      "2013-01-01^20:25:57^MPT^624d8c3ac0b3a7ca03e3c167e0f48327^DE^TXL^AUH^1^2^TXL^AUH^2013-01-26^D2^^AUH^TXL^2013-02-02^D2^^^^^^^^^^^^^^^^^^^^^^1ASIWS^0^0^0^d41d8cd98f00b204e9800998ecf8427e^FRA\r\n",
      "2013-01-01^10:15:33^MPT^b0af35b31588dc4ab06d5cf2986e8e02^MD^ATH^MIL^0^1^ATH^MIL^2013-01-04^^^^^^^^^^^^^^^^^^^^^^^^^^^^1ASIWS^0^0^0^d41d8cd98f00b204e9800998ecf8427e^KIV\r\n",
      "2013-01-01^18:04:49^MPT^3561a60621de06ab1badc8ca55699ef3^US^ICT^SFO^1^2^ICT^SFO^2013-08-02^^^SFO^ICT^2013-08-09^^^^^^^^^^^^^^^^^^^^^^^1ASIWS^0^0^0^d41d8cd98f00b204e9800998ecf8427e^NYC\r\n",
      "2013-01-01^17:42:40^FXP^1864e5e8013d9414150e91d26b6a558b^SE^RNB^ARN^0^1^RNB^ARN^2013-01-02^DU^W^^^^^^^^^^^^^^^^^^^^^^^^^^1ASI^0^0^0^d41d8cd98f00b204e9800998ecf8427e^STO\r\n",
      "\r\n",
      "bzcat: I/O or other error, bailing out.  Possible reason follows.\r\n",
      "bzcat: Broken pipe\r\n",
      "\tInput file = searches.sample.csv.bz2, output file = (stdout)\r\n"
     ]
    }
   ],
   "source": [
    "!bzcat searches.sample.csv.bz2 | head -5"
   ]
  },
  {
   "cell_type": "code",
   "execution_count": 4,
   "id": "f8601247",
   "metadata": {},
   "outputs": [
    {
     "data": {
      "text/html": [
       "<div>\n",
       "<style scoped>\n",
       "    .dataframe tbody tr th:only-of-type {\n",
       "        vertical-align: middle;\n",
       "    }\n",
       "\n",
       "    .dataframe tbody tr th {\n",
       "        vertical-align: top;\n",
       "    }\n",
       "\n",
       "    .dataframe thead th {\n",
       "        text-align: right;\n",
       "    }\n",
       "</style>\n",
       "<table border=\"1\" class=\"dataframe\">\n",
       "  <thead>\n",
       "    <tr style=\"text-align: right;\">\n",
       "      <th></th>\n",
       "      <th>ARR_PORT</th>\n",
       "      <th>CITY</th>\n",
       "      <th>IATA</th>\n",
       "      <th>cod</th>\n",
       "      <th>COUNTRY</th>\n",
       "      <th>coord_X</th>\n",
       "      <th>coord_Y</th>\n",
       "    </tr>\n",
       "  </thead>\n",
       "  <tbody>\n",
       "    <tr>\n",
       "      <th>0</th>\n",
       "      <td>AUH</td>\n",
       "      <td>Abu Dhabi International Airport</td>\n",
       "      <td>AUH</td>\n",
       "      <td>AE</td>\n",
       "      <td>United Arab Emirates</td>\n",
       "      <td>24.432972</td>\n",
       "      <td>54.651138</td>\n",
       "    </tr>\n",
       "    <tr>\n",
       "      <th>1</th>\n",
       "      <td>AZI</td>\n",
       "      <td>Abu Dhabi Bateen Airport</td>\n",
       "      <td>AUH</td>\n",
       "      <td>AE</td>\n",
       "      <td>United Arab Emirates</td>\n",
       "      <td>24.428333</td>\n",
       "      <td>54.458084</td>\n",
       "    </tr>\n",
       "    <tr>\n",
       "      <th>2</th>\n",
       "      <td>AAN</td>\n",
       "      <td>Al Ain International Airport</td>\n",
       "      <td>AAN</td>\n",
       "      <td>AE</td>\n",
       "      <td>United Arab Emirates</td>\n",
       "      <td>24.261667</td>\n",
       "      <td>55.609167</td>\n",
       "    </tr>\n",
       "    <tr>\n",
       "      <th>3</th>\n",
       "      <td>DXB</td>\n",
       "      <td>Dubai International Airport</td>\n",
       "      <td>DXB</td>\n",
       "      <td>AE</td>\n",
       "      <td>United Arab Emirates</td>\n",
       "      <td>25.252778</td>\n",
       "      <td>55.364444</td>\n",
       "    </tr>\n",
       "    <tr>\n",
       "      <th>4</th>\n",
       "      <td>FJR</td>\n",
       "      <td>Fujairah</td>\n",
       "      <td>FJR</td>\n",
       "      <td>AE</td>\n",
       "      <td>United Arab Emirates</td>\n",
       "      <td>25.112225</td>\n",
       "      <td>56.323964</td>\n",
       "    </tr>\n",
       "  </tbody>\n",
       "</table>\n",
       "</div>"
      ],
      "text/plain": [
       "  ARR_PORT                             CITY IATA cod               COUNTRY  \\\n",
       "0      AUH  Abu Dhabi International Airport  AUH  AE  United Arab Emirates   \n",
       "1      AZI         Abu Dhabi Bateen Airport  AUH  AE  United Arab Emirates   \n",
       "2      AAN     Al Ain International Airport  AAN  AE  United Arab Emirates   \n",
       "3      DXB      Dubai International Airport  DXB  AE  United Arab Emirates   \n",
       "4      FJR                         Fujairah  FJR  AE  United Arab Emirates   \n",
       "\n",
       "     coord_X    coord_Y  \n",
       "0  24.432972  54.651138  \n",
       "1  24.428333  54.458084  \n",
       "2  24.261667  55.609167  \n",
       "3  25.252778  55.364444  \n",
       "4  25.112225  56.323964  "
      ]
     },
     "execution_count": 4,
     "metadata": {},
     "output_type": "execute_result"
    }
   ],
   "source": [
    "url_git_airports = 'https://raw.githubusercontent.com/opentraveldata/geobases/public/GeoBases/DataSources/Airports/GeoNames/airports_geonames_only_clean.csv'\n",
    "airports = pd.read_csv(url_git_airports, sep='^', header =None, \n",
    "                       names=['ARR_PORT', 'CITY', 'IATA','cod','COUNTRY','coord_X','coord_Y'])\n",
    "airports.head()"
   ]
  },
  {
   "cell_type": "code",
   "execution_count": 5,
   "id": "b62a6802",
   "metadata": {},
   "outputs": [
    {
     "data": {
      "text/plain": [
       "str"
      ]
     },
     "execution_count": 5,
     "metadata": {},
     "output_type": "execute_result"
    }
   ],
   "source": [
    "airports.loc[:,'CITY'] = airports['CITY'].str.strip().str.upper()\n",
    "\n",
    "#bk_df_arrport.loc[:,\"ARR_PORT\"] = bk_df_arrport[\"ARR_PORT\"].str.strip().str.upper()\n",
    "airports.head()\n",
    "\n",
    "type(airports['CITY'][0])"
   ]
  },
  {
   "cell_type": "code",
   "execution_count": 6,
   "id": "1381efac",
   "metadata": {},
   "outputs": [
    {
     "data": {
      "text/plain": [
       "'BCN|MAD|AGP'"
      ]
     },
     "execution_count": 6,
     "metadata": {},
     "output_type": "execute_result"
    }
   ],
   "source": [
    "#find the name of the cities in the list\n",
    "airports['CITY'].str.contains('MADRID|MALAGA|BARCELONA').sum()\n",
    "\n",
    "List_cities=list(airports[airports['CITY'].str.contains('MADRID|MALAGA|BARCELONA')==True]['IATA'])\n",
    "List_cities\n",
    "pattern_List_cities = '|'.join(List_cities)\n",
    "pattern_List_cities"
   ]
  },
  {
   "cell_type": "code",
   "execution_count": null,
   "id": "2974b833",
   "metadata": {},
   "outputs": [],
   "source": []
  },
  {
   "cell_type": "code",
   "execution_count": 7,
   "id": "8f4a24bb",
   "metadata": {},
   "outputs": [
    {
     "data": {
      "text/html": [
       "<div>\n",
       "<style scoped>\n",
       "    .dataframe tbody tr th:only-of-type {\n",
       "        vertical-align: middle;\n",
       "    }\n",
       "\n",
       "    .dataframe tbody tr th {\n",
       "        vertical-align: top;\n",
       "    }\n",
       "\n",
       "    .dataframe thead th {\n",
       "        text-align: right;\n",
       "    }\n",
       "</style>\n",
       "<table border=\"1\" class=\"dataframe\">\n",
       "  <thead>\n",
       "    <tr style=\"text-align: right;\">\n",
       "      <th></th>\n",
       "      <th>Date</th>\n",
       "      <th>Destination</th>\n",
       "    </tr>\n",
       "  </thead>\n",
       "  <tbody>\n",
       "    <tr>\n",
       "      <th>4</th>\n",
       "      <td>2013-01-01</td>\n",
       "      <td>MAD</td>\n",
       "    </tr>\n",
       "    <tr>\n",
       "      <th>93</th>\n",
       "      <td>2013-01-01</td>\n",
       "      <td>AGP</td>\n",
       "    </tr>\n",
       "    <tr>\n",
       "      <th>113</th>\n",
       "      <td>2013-01-01</td>\n",
       "      <td>BCN</td>\n",
       "    </tr>\n",
       "    <tr>\n",
       "      <th>147</th>\n",
       "      <td>2013-01-01</td>\n",
       "      <td>AGP</td>\n",
       "    </tr>\n",
       "    <tr>\n",
       "      <th>151</th>\n",
       "      <td>2013-01-01</td>\n",
       "      <td>MAD</td>\n",
       "    </tr>\n",
       "    <tr>\n",
       "      <th>...</th>\n",
       "      <td>...</td>\n",
       "      <td>...</td>\n",
       "    </tr>\n",
       "    <tr>\n",
       "      <th>9830</th>\n",
       "      <td>2013-01-10</td>\n",
       "      <td>AGP</td>\n",
       "    </tr>\n",
       "    <tr>\n",
       "      <th>9881</th>\n",
       "      <td>2013-01-10</td>\n",
       "      <td>BCN</td>\n",
       "    </tr>\n",
       "    <tr>\n",
       "      <th>9906</th>\n",
       "      <td>2013-01-10</td>\n",
       "      <td>MAD</td>\n",
       "    </tr>\n",
       "    <tr>\n",
       "      <th>9947</th>\n",
       "      <td>2013-01-10</td>\n",
       "      <td>MAD</td>\n",
       "    </tr>\n",
       "    <tr>\n",
       "      <th>9950</th>\n",
       "      <td>2013-01-10</td>\n",
       "      <td>MAD</td>\n",
       "    </tr>\n",
       "  </tbody>\n",
       "</table>\n",
       "<p>335 rows × 2 columns</p>\n",
       "</div>"
      ],
      "text/plain": [
       "           Date Destination\n",
       "4    2013-01-01         MAD\n",
       "93   2013-01-01         AGP\n",
       "113  2013-01-01         BCN\n",
       "147  2013-01-01         AGP\n",
       "151  2013-01-01         MAD\n",
       "...         ...         ...\n",
       "9830 2013-01-10         AGP\n",
       "9881 2013-01-10         BCN\n",
       "9906 2013-01-10         MAD\n",
       "9947 2013-01-10         MAD\n",
       "9950 2013-01-10         MAD\n",
       "\n",
       "[335 rows x 2 columns]"
      ]
     },
     "execution_count": 7,
     "metadata": {},
     "output_type": "execute_result"
    }
   ],
   "source": [
    "file='./searches.sample.csv.bz2'\n",
    "#file='/home/dsc/data/challenge/searches.csv.bz2'\n",
    "\n",
    "sh_df= pd.read_csv(file, compression='bz2',  sep='^',parse_dates=['Date'],\n",
    "                   usecols=['Date','Destination'])\n",
    "type(sh_df)\n",
    "\n",
    "sh_df_ma_m_b=sh_df[sh_df['Destination'].str.contains(pattern_List_cities)]\n",
    "\n",
    "sh_df_ma_m_b\n",
    "# already filtered columns - in order to keep only necesary information "
   ]
  },
  {
   "cell_type": "code",
   "execution_count": 8,
   "id": "c4cb4ee7",
   "metadata": {},
   "outputs": [
    {
     "data": {
      "text/plain": [
       "Date           datetime64[ns]\n",
       "Destination            object\n",
       "dtype: object"
      ]
     },
     "execution_count": 8,
     "metadata": {},
     "output_type": "execute_result"
    }
   ],
   "source": [
    "# checking the information -type\n",
    "sh_df_ma_m_b.dtypes"
   ]
  },
  {
   "cell_type": "code",
   "execution_count": 9,
   "id": "5af2c5c8",
   "metadata": {},
   "outputs": [
    {
     "data": {
      "text/plain": [
       "Index(['DATE', 'DESTINATION'], dtype='object')"
      ]
     },
     "execution_count": 9,
     "metadata": {},
     "output_type": "execute_result"
    }
   ],
   "source": [
    "#checking nulls\n",
    "pd.isnull(sh_df_ma_m_b).sum()\n",
    "sh_df_ma_m_b=sh_df_ma_m_b.dropna() # drop null values\n",
    "\n",
    "#remove blanks from column name - not necesary -already clean\n",
    "sh_df_ma_m_b.columns = sh_df_ma_m_b.columns.str.replace(' ', '').str.upper()\n",
    "sh_df_ma_m_b.columns"
   ]
  },
  {
   "cell_type": "code",
   "execution_count": 10,
   "id": "f948f0fa",
   "metadata": {
    "scrolled": false
   },
   "outputs": [
    {
     "name": "stdout",
     "output_type": "stream",
     "text": [
      "DATE - datetime64[ns]\n",
      "DESTINATION - object\n"
     ]
    }
   ],
   "source": [
    "for col in sh_df_ma_m_b.columns:\n",
    "    print (col,\"-\", sh_df_ma_m_b[col].dtypes)"
   ]
  },
  {
   "cell_type": "code",
   "execution_count": 11,
   "id": "819996b0",
   "metadata": {
    "scrolled": true
   },
   "outputs": [
    {
     "data": {
      "text/plain": [
       "DESTINATION  MONTH\n",
       "AGP          1         48\n",
       "BCN          1        162\n",
       "MAD          1        125\n",
       "Name: MONTH, dtype: int64"
      ]
     },
     "execution_count": 11,
     "metadata": {},
     "output_type": "execute_result"
    }
   ],
   "source": [
    "sh_df_ma_m_b['MONTH'] = pd.DatetimeIndex(sh_df_ma_m_b['DATE']).month\n",
    "sh_df_ma_m_b=sh_df_ma_m_b.drop(columns=['DATE'])\n",
    "sh_df_ma_m_b.groupby(by=['DESTINATION','MONTH'])['MONTH'].count()\n"
   ]
  },
  {
   "cell_type": "code",
   "execution_count": 12,
   "id": "a4e11879",
   "metadata": {},
   "outputs": [
    {
     "data": {
      "text/html": [
       "<div>\n",
       "<style scoped>\n",
       "    .dataframe tbody tr th:only-of-type {\n",
       "        vertical-align: middle;\n",
       "    }\n",
       "\n",
       "    .dataframe tbody tr th {\n",
       "        vertical-align: top;\n",
       "    }\n",
       "\n",
       "    .dataframe thead th {\n",
       "        text-align: right;\n",
       "    }\n",
       "</style>\n",
       "<table border=\"1\" class=\"dataframe\">\n",
       "  <thead>\n",
       "    <tr style=\"text-align: right;\">\n",
       "      <th></th>\n",
       "      <th>DESTINATION</th>\n",
       "      <th>MONTH</th>\n",
       "      <th>Num</th>\n",
       "    </tr>\n",
       "  </thead>\n",
       "  <tbody>\n",
       "    <tr>\n",
       "      <th>0</th>\n",
       "      <td>AGP</td>\n",
       "      <td>1</td>\n",
       "      <td>48</td>\n",
       "    </tr>\n",
       "    <tr>\n",
       "      <th>1</th>\n",
       "      <td>BCN</td>\n",
       "      <td>1</td>\n",
       "      <td>162</td>\n",
       "    </tr>\n",
       "    <tr>\n",
       "      <th>2</th>\n",
       "      <td>MAD</td>\n",
       "      <td>1</td>\n",
       "      <td>125</td>\n",
       "    </tr>\n",
       "  </tbody>\n",
       "</table>\n",
       "</div>"
      ],
      "text/plain": [
       "  DESTINATION  MONTH  Num\n",
       "0         AGP      1   48\n",
       "1         BCN      1  162\n",
       "2         MAD      1  125"
      ]
     },
     "execution_count": 12,
     "metadata": {},
     "output_type": "execute_result"
    }
   ],
   "source": [
    "sh_df_ma_m_b.groupby(by=['DESTINATION','MONTH'])['MONTH'].count().reset_index(name=\"Num\")"
   ]
  },
  {
   "cell_type": "markdown",
   "id": "3571538e",
   "metadata": {},
   "source": [
    "## Solution 3 <a name=\"Sol3\"></a>\n",
    "\n",
    "Notas: si tenemos dtaframe se puede filtrar:\n",
    "df.plot() te muestra los valores de las columas como series y los valores del eje x como el index\n",
    "\n"
   ]
  },
  {
   "cell_type": "code",
   "execution_count": null,
   "id": "fddfb867",
   "metadata": {},
   "outputs": [],
   "source": [
    "# hay un doble separador en algunas lineas.. un modo de corregirlo es usando expresion regulasr\n",
    "#sep='[,^]'"
   ]
  },
  {
   "cell_type": "code",
   "execution_count": 57,
   "id": "be22f0d4",
   "metadata": {
    "scrolled": false
   },
   "outputs": [
    {
     "name": "stderr",
     "output_type": "stream",
     "text": [
      "/home/dsc/anaconda3/lib/python3.8/site-packages/pandas/util/_decorators.py:311: ParserWarning: Falling back to the 'python' engine because the 'c' engine does not support regex separators (separators > 1 char and different from '\\s+' are interpreted as regex); you can avoid this warning by specifying engine='python'.\n",
      "  return func(*args, **kwargs)\n",
      "/home/dsc/anaconda3/lib/python3.8/site-packages/pandas/core/indexing.py:1667: SettingWithCopyWarning: \n",
      "A value is trying to be set on a copy of a slice from a DataFrame.\n",
      "Try using .loc[row_indexer,col_indexer] = value instead\n",
      "\n",
      "See the caveats in the documentation: https://pandas.pydata.org/pandas-docs/stable/user_guide/indexing.html#returning-a-view-versus-a-copy\n",
      "  self.obj[key] = value\n"
     ]
    },
    {
     "data": {
      "text/html": [
       "<div>\n",
       "<style scoped>\n",
       "    .dataframe tbody tr th:only-of-type {\n",
       "        vertical-align: middle;\n",
       "    }\n",
       "\n",
       "    .dataframe tbody tr th {\n",
       "        vertical-align: top;\n",
       "    }\n",
       "\n",
       "    .dataframe thead th {\n",
       "        text-align: right;\n",
       "    }\n",
       "</style>\n",
       "<table border=\"1\" class=\"dataframe\">\n",
       "  <thead>\n",
       "    <tr style=\"text-align: right;\">\n",
       "      <th></th>\n",
       "      <th></th>\n",
       "      <th>NUM</th>\n",
       "    </tr>\n",
       "    <tr>\n",
       "      <th>DESTINATION</th>\n",
       "      <th>MONTH</th>\n",
       "      <th></th>\n",
       "    </tr>\n",
       "  </thead>\n",
       "  <tbody>\n",
       "    <tr>\n",
       "      <th rowspan=\"5\" valign=\"top\">AGP</th>\n",
       "      <th>1</th>\n",
       "      <td>9633</td>\n",
       "    </tr>\n",
       "    <tr>\n",
       "      <th>2</th>\n",
       "      <td>8379</td>\n",
       "    </tr>\n",
       "    <tr>\n",
       "      <th>3</th>\n",
       "      <td>10659</td>\n",
       "    </tr>\n",
       "    <tr>\n",
       "      <th>4</th>\n",
       "      <td>8265</td>\n",
       "    </tr>\n",
       "    <tr>\n",
       "      <th>5</th>\n",
       "      <td>10830</td>\n",
       "    </tr>\n",
       "  </tbody>\n",
       "</table>\n",
       "</div>"
      ],
      "text/plain": [
       "                     NUM\n",
       "DESTINATION MONTH       \n",
       "AGP         1       9633\n",
       "            2       8379\n",
       "            3      10659\n",
       "            4       8265\n",
       "            5      10830"
      ]
     },
     "execution_count": 57,
     "metadata": {},
     "output_type": "execute_result"
    }
   ],
   "source": [
    "\n",
    "filename='/home/dsc/data/challenge/searches.csv.bz2'\n",
    "#filename='./searches.sample.csv.bz2'\n",
    "chunksize = 1000000\n",
    "list_of_chunks=[]\n",
    "\n",
    "nchunk=0\n",
    "with pd.read_csv(filename, compression='bz2',  sep='[,^]', parse_dates=['Date'],\n",
    "                   usecols=['Date','Destination'], chunksize=chunksize) as reader:\n",
    "    for chunk in reader:\n",
    "        \n",
    "        chunk.columns = chunk.columns.str.replace(' ', '').str.upper() #remove blanks from column name\n",
    "        chunk_clean=chunk[['DATE','DESTINATION']].dropna()   \n",
    "        chunk_filter_cities=chunk_clean[chunk_clean['DESTINATION'].str.strip().str.contains(pattern_List_cities)]  # filtering columns and removing NaN      \n",
    "        chunk_filter_cities.loc[:,'MONTH'] = pd.DatetimeIndex(chunk_filter_cities['DATE']).month\n",
    "        # convertir a mes name con 3 primeros char--> chunk_filter_cities.loc[:,'MONTH']=chunk_filter_cities['DATE'].d.month_name().str[:3]\n",
    "        chunk_filter_cities=chunk_filter_cities.drop(columns=['DATE'])\n",
    "        chunk_filter_cities_out=chunk_filter_cities.groupby(by=['DESTINATION','MONTH'])['MONTH'].count().reset_index(name=\"NUM\")\n",
    "      \n",
    "        list_of_chunks.append(chunk_filter_cities_out)\n",
    "        nchunk=+1\n",
    "        \n",
    "        \n",
    "final_tble=pd.concat(list_of_chunks)\n",
    "#print (f'número de chunks= {nchunk}')\n",
    "                     \n",
    "sh_city_month=final_tble.groupby(by=['DESTINATION','MONTH']).sum().sort_values(by =['DESTINATION','MONTH'])                                  \n",
    "\n",
    "sh_city_month.head()\n",
    "\n"
   ]
  },
  {
   "cell_type": "code",
   "execution_count": 15,
   "id": "126ba8cb",
   "metadata": {},
   "outputs": [
    {
     "data": {
      "text/plain": [
       "pandas.core.frame.DataFrame"
      ]
     },
     "execution_count": 15,
     "metadata": {},
     "output_type": "execute_result"
    }
   ],
   "source": [
    "type(sh_city_month)"
   ]
  },
  {
   "cell_type": "code",
   "execution_count": 58,
   "id": "286a807e",
   "metadata": {
    "scrolled": true
   },
   "outputs": [
    {
     "data": {
      "text/html": [
       "<div>\n",
       "<style scoped>\n",
       "    .dataframe tbody tr th:only-of-type {\n",
       "        vertical-align: middle;\n",
       "    }\n",
       "\n",
       "    .dataframe tbody tr th {\n",
       "        vertical-align: top;\n",
       "    }\n",
       "\n",
       "    .dataframe thead th {\n",
       "        text-align: right;\n",
       "    }\n",
       "</style>\n",
       "<table border=\"1\" class=\"dataframe\">\n",
       "  <thead>\n",
       "    <tr style=\"text-align: right;\">\n",
       "      <th></th>\n",
       "      <th></th>\n",
       "      <th>NUM</th>\n",
       "    </tr>\n",
       "    <tr>\n",
       "      <th>DESTINATION</th>\n",
       "      <th>MONTH</th>\n",
       "      <th></th>\n",
       "    </tr>\n",
       "  </thead>\n",
       "  <tbody>\n",
       "    <tr>\n",
       "      <th rowspan=\"12\" valign=\"top\">AGP</th>\n",
       "      <th>1</th>\n",
       "      <td>9633</td>\n",
       "    </tr>\n",
       "    <tr>\n",
       "      <th>2</th>\n",
       "      <td>8379</td>\n",
       "    </tr>\n",
       "    <tr>\n",
       "      <th>3</th>\n",
       "      <td>10659</td>\n",
       "    </tr>\n",
       "    <tr>\n",
       "      <th>4</th>\n",
       "      <td>8265</td>\n",
       "    </tr>\n",
       "    <tr>\n",
       "      <th>5</th>\n",
       "      <td>10830</td>\n",
       "    </tr>\n",
       "    <tr>\n",
       "      <th>6</th>\n",
       "      <td>7923</td>\n",
       "    </tr>\n",
       "    <tr>\n",
       "      <th>7</th>\n",
       "      <td>8892</td>\n",
       "    </tr>\n",
       "    <tr>\n",
       "      <th>8</th>\n",
       "      <td>7866</td>\n",
       "    </tr>\n",
       "    <tr>\n",
       "      <th>9</th>\n",
       "      <td>8151</td>\n",
       "    </tr>\n",
       "    <tr>\n",
       "      <th>10</th>\n",
       "      <td>6499</td>\n",
       "    </tr>\n",
       "    <tr>\n",
       "      <th>11</th>\n",
       "      <td>6384</td>\n",
       "    </tr>\n",
       "    <tr>\n",
       "      <th>12</th>\n",
       "      <td>3696</td>\n",
       "    </tr>\n",
       "    <tr>\n",
       "      <th rowspan=\"12\" valign=\"top\">BCN</th>\n",
       "      <th>1</th>\n",
       "      <td>29469</td>\n",
       "    </tr>\n",
       "    <tr>\n",
       "      <th>2</th>\n",
       "      <td>28329</td>\n",
       "    </tr>\n",
       "    <tr>\n",
       "      <th>3</th>\n",
       "      <td>30552</td>\n",
       "    </tr>\n",
       "    <tr>\n",
       "      <th>4</th>\n",
       "      <td>31236</td>\n",
       "    </tr>\n",
       "    <tr>\n",
       "      <th>5</th>\n",
       "      <td>28728</td>\n",
       "    </tr>\n",
       "    <tr>\n",
       "      <th>6</th>\n",
       "      <td>26505</td>\n",
       "    </tr>\n",
       "    <tr>\n",
       "      <th>7</th>\n",
       "      <td>29241</td>\n",
       "    </tr>\n",
       "    <tr>\n",
       "      <th>8</th>\n",
       "      <td>27075</td>\n",
       "    </tr>\n",
       "    <tr>\n",
       "      <th>9</th>\n",
       "      <td>23427</td>\n",
       "    </tr>\n",
       "    <tr>\n",
       "      <th>10</th>\n",
       "      <td>20276</td>\n",
       "    </tr>\n",
       "    <tr>\n",
       "      <th>11</th>\n",
       "      <td>19824</td>\n",
       "    </tr>\n",
       "    <tr>\n",
       "      <th>12</th>\n",
       "      <td>15400</td>\n",
       "    </tr>\n",
       "    <tr>\n",
       "      <th rowspan=\"12\" valign=\"top\">MAD</th>\n",
       "      <th>1</th>\n",
       "      <td>24258</td>\n",
       "    </tr>\n",
       "    <tr>\n",
       "      <th>2</th>\n",
       "      <td>22800</td>\n",
       "    </tr>\n",
       "    <tr>\n",
       "      <th>3</th>\n",
       "      <td>24681</td>\n",
       "    </tr>\n",
       "    <tr>\n",
       "      <th>4</th>\n",
       "      <td>25251</td>\n",
       "    </tr>\n",
       "    <tr>\n",
       "      <th>5</th>\n",
       "      <td>26334</td>\n",
       "    </tr>\n",
       "    <tr>\n",
       "      <th>6</th>\n",
       "      <td>22800</td>\n",
       "    </tr>\n",
       "    <tr>\n",
       "      <th>7</th>\n",
       "      <td>22971</td>\n",
       "    </tr>\n",
       "    <tr>\n",
       "      <th>8</th>\n",
       "      <td>21831</td>\n",
       "    </tr>\n",
       "    <tr>\n",
       "      <th>9</th>\n",
       "      <td>21147</td>\n",
       "    </tr>\n",
       "    <tr>\n",
       "      <th>10</th>\n",
       "      <td>22294</td>\n",
       "    </tr>\n",
       "    <tr>\n",
       "      <th>11</th>\n",
       "      <td>20272</td>\n",
       "    </tr>\n",
       "    <tr>\n",
       "      <th>12</th>\n",
       "      <td>14504</td>\n",
       "    </tr>\n",
       "  </tbody>\n",
       "</table>\n",
       "</div>"
      ],
      "text/plain": [
       "                     NUM\n",
       "DESTINATION MONTH       \n",
       "AGP         1       9633\n",
       "            2       8379\n",
       "            3      10659\n",
       "            4       8265\n",
       "            5      10830\n",
       "            6       7923\n",
       "            7       8892\n",
       "            8       7866\n",
       "            9       8151\n",
       "            10      6499\n",
       "            11      6384\n",
       "            12      3696\n",
       "BCN         1      29469\n",
       "            2      28329\n",
       "            3      30552\n",
       "            4      31236\n",
       "            5      28728\n",
       "            6      26505\n",
       "            7      29241\n",
       "            8      27075\n",
       "            9      23427\n",
       "            10     20276\n",
       "            11     19824\n",
       "            12     15400\n",
       "MAD         1      24258\n",
       "            2      22800\n",
       "            3      24681\n",
       "            4      25251\n",
       "            5      26334\n",
       "            6      22800\n",
       "            7      22971\n",
       "            8      21831\n",
       "            9      21147\n",
       "            10     22294\n",
       "            11     20272\n",
       "            12     14504"
      ]
     },
     "execution_count": 58,
     "metadata": {},
     "output_type": "execute_result"
    }
   ],
   "source": [
    "sh_city_month"
   ]
  },
  {
   "cell_type": "code",
   "execution_count": null,
   "id": "f476182d",
   "metadata": {},
   "outputs": [],
   "source": []
  },
  {
   "cell_type": "code",
   "execution_count": 59,
   "id": "3d87879e",
   "metadata": {},
   "outputs": [
    {
     "data": {
      "text/html": [
       "<div>\n",
       "<style scoped>\n",
       "    .dataframe tbody tr th:only-of-type {\n",
       "        vertical-align: middle;\n",
       "    }\n",
       "\n",
       "    .dataframe tbody tr th {\n",
       "        vertical-align: top;\n",
       "    }\n",
       "\n",
       "    .dataframe thead th {\n",
       "        text-align: right;\n",
       "    }\n",
       "</style>\n",
       "<table border=\"1\" class=\"dataframe\">\n",
       "  <thead>\n",
       "    <tr style=\"text-align: right;\">\n",
       "      <th></th>\n",
       "      <th></th>\n",
       "      <th>NUM</th>\n",
       "    </tr>\n",
       "    <tr>\n",
       "      <th>DESTINATION</th>\n",
       "      <th>MONTH</th>\n",
       "      <th></th>\n",
       "    </tr>\n",
       "  </thead>\n",
       "  <tbody>\n",
       "    <tr>\n",
       "      <th rowspan=\"12\" valign=\"top\">AGP</th>\n",
       "      <th>1</th>\n",
       "      <td>9633</td>\n",
       "    </tr>\n",
       "    <tr>\n",
       "      <th>2</th>\n",
       "      <td>8379</td>\n",
       "    </tr>\n",
       "    <tr>\n",
       "      <th>3</th>\n",
       "      <td>10659</td>\n",
       "    </tr>\n",
       "    <tr>\n",
       "      <th>4</th>\n",
       "      <td>8265</td>\n",
       "    </tr>\n",
       "    <tr>\n",
       "      <th>5</th>\n",
       "      <td>10830</td>\n",
       "    </tr>\n",
       "    <tr>\n",
       "      <th>6</th>\n",
       "      <td>7923</td>\n",
       "    </tr>\n",
       "    <tr>\n",
       "      <th>7</th>\n",
       "      <td>8892</td>\n",
       "    </tr>\n",
       "    <tr>\n",
       "      <th>8</th>\n",
       "      <td>7866</td>\n",
       "    </tr>\n",
       "    <tr>\n",
       "      <th>9</th>\n",
       "      <td>8151</td>\n",
       "    </tr>\n",
       "    <tr>\n",
       "      <th>10</th>\n",
       "      <td>6499</td>\n",
       "    </tr>\n",
       "    <tr>\n",
       "      <th>11</th>\n",
       "      <td>6384</td>\n",
       "    </tr>\n",
       "    <tr>\n",
       "      <th>12</th>\n",
       "      <td>3696</td>\n",
       "    </tr>\n",
       "    <tr>\n",
       "      <th rowspan=\"12\" valign=\"top\">BCN</th>\n",
       "      <th>1</th>\n",
       "      <td>29469</td>\n",
       "    </tr>\n",
       "    <tr>\n",
       "      <th>2</th>\n",
       "      <td>28329</td>\n",
       "    </tr>\n",
       "    <tr>\n",
       "      <th>3</th>\n",
       "      <td>30552</td>\n",
       "    </tr>\n",
       "    <tr>\n",
       "      <th>4</th>\n",
       "      <td>31236</td>\n",
       "    </tr>\n",
       "    <tr>\n",
       "      <th>5</th>\n",
       "      <td>28728</td>\n",
       "    </tr>\n",
       "    <tr>\n",
       "      <th>6</th>\n",
       "      <td>26505</td>\n",
       "    </tr>\n",
       "    <tr>\n",
       "      <th>7</th>\n",
       "      <td>29241</td>\n",
       "    </tr>\n",
       "    <tr>\n",
       "      <th>8</th>\n",
       "      <td>27075</td>\n",
       "    </tr>\n",
       "    <tr>\n",
       "      <th>9</th>\n",
       "      <td>23427</td>\n",
       "    </tr>\n",
       "    <tr>\n",
       "      <th>10</th>\n",
       "      <td>20276</td>\n",
       "    </tr>\n",
       "    <tr>\n",
       "      <th>11</th>\n",
       "      <td>19824</td>\n",
       "    </tr>\n",
       "    <tr>\n",
       "      <th>12</th>\n",
       "      <td>15400</td>\n",
       "    </tr>\n",
       "    <tr>\n",
       "      <th rowspan=\"12\" valign=\"top\">MAD</th>\n",
       "      <th>1</th>\n",
       "      <td>24258</td>\n",
       "    </tr>\n",
       "    <tr>\n",
       "      <th>2</th>\n",
       "      <td>22800</td>\n",
       "    </tr>\n",
       "    <tr>\n",
       "      <th>3</th>\n",
       "      <td>24681</td>\n",
       "    </tr>\n",
       "    <tr>\n",
       "      <th>4</th>\n",
       "      <td>25251</td>\n",
       "    </tr>\n",
       "    <tr>\n",
       "      <th>5</th>\n",
       "      <td>26334</td>\n",
       "    </tr>\n",
       "    <tr>\n",
       "      <th>6</th>\n",
       "      <td>22800</td>\n",
       "    </tr>\n",
       "    <tr>\n",
       "      <th>7</th>\n",
       "      <td>22971</td>\n",
       "    </tr>\n",
       "    <tr>\n",
       "      <th>8</th>\n",
       "      <td>21831</td>\n",
       "    </tr>\n",
       "    <tr>\n",
       "      <th>9</th>\n",
       "      <td>21147</td>\n",
       "    </tr>\n",
       "    <tr>\n",
       "      <th>10</th>\n",
       "      <td>22294</td>\n",
       "    </tr>\n",
       "    <tr>\n",
       "      <th>11</th>\n",
       "      <td>20272</td>\n",
       "    </tr>\n",
       "    <tr>\n",
       "      <th>12</th>\n",
       "      <td>14504</td>\n",
       "    </tr>\n",
       "  </tbody>\n",
       "</table>\n",
       "</div>"
      ],
      "text/plain": [
       "                     NUM\n",
       "DESTINATION MONTH       \n",
       "AGP         1       9633\n",
       "            2       8379\n",
       "            3      10659\n",
       "            4       8265\n",
       "            5      10830\n",
       "            6       7923\n",
       "            7       8892\n",
       "            8       7866\n",
       "            9       8151\n",
       "            10      6499\n",
       "            11      6384\n",
       "            12      3696\n",
       "BCN         1      29469\n",
       "            2      28329\n",
       "            3      30552\n",
       "            4      31236\n",
       "            5      28728\n",
       "            6      26505\n",
       "            7      29241\n",
       "            8      27075\n",
       "            9      23427\n",
       "            10     20276\n",
       "            11     19824\n",
       "            12     15400\n",
       "MAD         1      24258\n",
       "            2      22800\n",
       "            3      24681\n",
       "            4      25251\n",
       "            5      26334\n",
       "            6      22800\n",
       "            7      22971\n",
       "            8      21831\n",
       "            9      21147\n",
       "            10     22294\n",
       "            11     20272\n",
       "            12     14504"
      ]
     },
     "execution_count": 59,
     "metadata": {},
     "output_type": "execute_result"
    }
   ],
   "source": [
    "sh_city_month"
   ]
  },
  {
   "cell_type": "code",
   "execution_count": 60,
   "id": "14331813",
   "metadata": {},
   "outputs": [
    {
     "data": {
      "text/html": [
       "<div>\n",
       "<style scoped>\n",
       "    .dataframe tbody tr th:only-of-type {\n",
       "        vertical-align: middle;\n",
       "    }\n",
       "\n",
       "    .dataframe tbody tr th {\n",
       "        vertical-align: top;\n",
       "    }\n",
       "\n",
       "    .dataframe thead th {\n",
       "        text-align: right;\n",
       "    }\n",
       "</style>\n",
       "<table border=\"1\" class=\"dataframe\">\n",
       "  <thead>\n",
       "    <tr style=\"text-align: right;\">\n",
       "      <th>DESTINATION</th>\n",
       "      <th>AGP</th>\n",
       "      <th>BCN</th>\n",
       "      <th>MAD</th>\n",
       "    </tr>\n",
       "    <tr>\n",
       "      <th>MONTH</th>\n",
       "      <th></th>\n",
       "      <th></th>\n",
       "      <th></th>\n",
       "    </tr>\n",
       "  </thead>\n",
       "  <tbody>\n",
       "    <tr>\n",
       "      <th>1</th>\n",
       "      <td>458.714286</td>\n",
       "      <td>1403.285714</td>\n",
       "      <td>1155.142857</td>\n",
       "    </tr>\n",
       "    <tr>\n",
       "      <th>2</th>\n",
       "      <td>399.000000</td>\n",
       "      <td>1349.000000</td>\n",
       "      <td>1085.714286</td>\n",
       "    </tr>\n",
       "    <tr>\n",
       "      <th>3</th>\n",
       "      <td>507.571429</td>\n",
       "      <td>1454.857143</td>\n",
       "      <td>1175.285714</td>\n",
       "    </tr>\n",
       "    <tr>\n",
       "      <th>4</th>\n",
       "      <td>393.571429</td>\n",
       "      <td>1487.428571</td>\n",
       "      <td>1202.428571</td>\n",
       "    </tr>\n",
       "    <tr>\n",
       "      <th>5</th>\n",
       "      <td>515.714286</td>\n",
       "      <td>1368.000000</td>\n",
       "      <td>1254.000000</td>\n",
       "    </tr>\n",
       "    <tr>\n",
       "      <th>6</th>\n",
       "      <td>377.285714</td>\n",
       "      <td>1262.142857</td>\n",
       "      <td>1085.714286</td>\n",
       "    </tr>\n",
       "    <tr>\n",
       "      <th>7</th>\n",
       "      <td>423.428571</td>\n",
       "      <td>1392.428571</td>\n",
       "      <td>1093.857143</td>\n",
       "    </tr>\n",
       "    <tr>\n",
       "      <th>8</th>\n",
       "      <td>374.571429</td>\n",
       "      <td>1289.285714</td>\n",
       "      <td>1039.571429</td>\n",
       "    </tr>\n",
       "    <tr>\n",
       "      <th>9</th>\n",
       "      <td>388.142857</td>\n",
       "      <td>1115.571429</td>\n",
       "      <td>1007.000000</td>\n",
       "    </tr>\n",
       "    <tr>\n",
       "      <th>10</th>\n",
       "      <td>309.476190</td>\n",
       "      <td>965.523810</td>\n",
       "      <td>1061.619048</td>\n",
       "    </tr>\n",
       "    <tr>\n",
       "      <th>11</th>\n",
       "      <td>304.000000</td>\n",
       "      <td>944.000000</td>\n",
       "      <td>965.333333</td>\n",
       "    </tr>\n",
       "    <tr>\n",
       "      <th>12</th>\n",
       "      <td>176.000000</td>\n",
       "      <td>733.333333</td>\n",
       "      <td>690.666667</td>\n",
       "    </tr>\n",
       "  </tbody>\n",
       "</table>\n",
       "</div>"
      ],
      "text/plain": [
       "DESTINATION         AGP          BCN          MAD\n",
       "MONTH                                            \n",
       "1            458.714286  1403.285714  1155.142857\n",
       "2            399.000000  1349.000000  1085.714286\n",
       "3            507.571429  1454.857143  1175.285714\n",
       "4            393.571429  1487.428571  1202.428571\n",
       "5            515.714286  1368.000000  1254.000000\n",
       "6            377.285714  1262.142857  1085.714286\n",
       "7            423.428571  1392.428571  1093.857143\n",
       "8            374.571429  1289.285714  1039.571429\n",
       "9            388.142857  1115.571429  1007.000000\n",
       "10           309.476190   965.523810  1061.619048\n",
       "11           304.000000   944.000000   965.333333\n",
       "12           176.000000   733.333333   690.666667"
      ]
     },
     "execution_count": 60,
     "metadata": {},
     "output_type": "execute_result"
    }
   ],
   "source": [
    "pd.pivot_table(final_tble.reset_index(),\n",
    "               index='MONTH', columns='DESTINATION', values='NUM')"
   ]
  },
  {
   "cell_type": "code",
   "execution_count": 61,
   "id": "3cb60d05",
   "metadata": {
    "scrolled": true
   },
   "outputs": [
    {
     "name": "stderr",
     "output_type": "stream",
     "text": [
      "/tmp/ipykernel_2175/2074694362.py:8: UserWarning: FixedFormatter should only be used together with FixedLocator\n",
      "  ax.set_xticklabels(months_in_year);\n"
     ]
    },
    {
     "data": {
      "image/png": "[encoded data removed]",
      "text/plain": [
       "<Figure size 720x360 with 1 Axes>"
      ]
     },
     "metadata": {
      "needs_background": "light"
     },
     "output_type": "display_data"
    }
   ],
   "source": [
    "months_in_year = ['JAN', 'FEB', 'MAR', 'APR', 'MAY', 'JUN', 'JUL', 'AUG', 'SEP', 'OCT', 'NOV', 'DEC']\n",
    "\n",
    "fig, ax = plt.subplots(1,1,figsize = (10,5))\n",
    "\n",
    "pd.pivot_table(final_tble.reset_index(),\n",
    "               index='MONTH', columns='DESTINATION', values='NUM'\n",
    "              ).plot( ax=ax);\n",
    "ax.set_xticklabels(months_in_year);\n",
    "\n",
    "#plot.gcf()\n",
    "#plt.gca().set_xticklabels(months_in_year);"
   ]
  },
  {
   "cell_type": "code",
   "execution_count": null,
   "id": "3c657038",
   "metadata": {},
   "outputs": [],
   "source": [
    "final_tble.shape()\n"
   ]
  },
  {
   "cell_type": "code",
   "execution_count": null,
   "id": "5f3cb3d0",
   "metadata": {},
   "outputs": [],
   "source": []
  },
  {
   "cell_type": "code",
   "execution_count": null,
   "id": "edbabd14",
   "metadata": {},
   "outputs": [],
   "source": []
  },
  {
   "cell_type": "markdown",
   "id": "36e3d51b",
   "metadata": {},
   "source": [
    "\n",
    "fig,ax=plt.subplots(figsize=(10,8));\n",
    "\n",
    "ax.hist(x, bins=100,density=True,color='green');\n",
    "\n",
    "ax.set_xlabel('people')\n",
    "ax.set_ylabel('Probability');\n",
    "ax.text(60,.025,'$\\mu=100,\\sigma=15$')\n",
    "ax.set_title('Histogram of people');\n",
    "ax.grid()"
   ]
  },
  {
   "cell_type": "markdown",
   "id": "bab9a3c0",
   "metadata": {},
   "source": [
    "## Ejercicio 4 <a name=\"Exercise4\"></a>\n",
    "\n",
    "Match searches with bookings\n",
    "* For every search in the searches file, find out whether the search ended up in a booking or not (using the info in the bookings file). For instance, search and booking origin and destination should match.\n",
    "* For the bookings file, origin and destination are the columns dep_port and arr_port, respectively.\n",
    "* Generate a CSV file with the search data, and an additional field, containing 1 if the search ended up in a booking, and 0 otherwise."
   ]
  },
  {
   "cell_type": "code",
   "execution_count": 4,
   "id": "240c28dd",
   "metadata": {},
   "outputs": [],
   "source": [
    "#sh_df= pd.read_csv('./searches.sample.csv.bz2', compression='bz2',  sep='^')\n",
    "#bk_df= pd.read_csv('./bookings.sample.csv.bz2', compression='bz2',  sep='^')"
   ]
  },
  {
   "cell_type": "code",
   "execution_count": 2,
   "id": "0ee13c3c",
   "metadata": {},
   "outputs": [],
   "source": [
    "#incluido el chunk para aligerar tiempos\n",
    "\n",
    "chunksize=100000\n",
    "bookings=pd.read_csv('/home/dsc/data/challenge/bookings.csv.bz2',\n",
    "                     usecols=['cre_date           ','dep_port','arr_port'], \n",
    "                     compression='bz2', sep='^',chunksize=chunksize )\n",
    "\n",
    "#bk_df= pd.read_csv('/home/dsc/data/challenge/bookings.csv.bz2',usecols=['cre_date           ','dep_port','arr_port'], compression='bz2', sep='^')\n",
    "all_bookings=[]\n",
    "for chunk in bookings:\n",
    "\n",
    "    chunk.columns = chunk.columns.str.replace(' ', '').str.upper() #remove blanks from column name\n",
    "    bk_df_key=chunk[['ARR_PORT','CRE_DATE','DEP_PORT']].dropna() # filtering columns and removing NaN      \n",
    "    bk_df_key['ARR_PORT']=bk_df_key['ARR_PORT'].str.strip()#remove blanks in column arr_port\n",
    "    bk_df_key['DEP_PORT']=bk_df_key['DEP_PORT'].str.strip()#remove blanks in column dep_port\n",
    "    bk_df_key['CRE_DATE']=bk_df_key['CRE_DATE'].str[:10] \n",
    "    bk_df_key_no_dup=bk_df_key.drop_duplicates()\n",
    "    all_bookings.append(bk_df_key_no_dup)\n",
    "    \n",
    "all_bookings=pd.concat(all_bookings).dropna().drop_duplicates()  \n",
    "all_bookings=all_bookings.drop_duplicates()   \n"
   ]
  },
  {
   "cell_type": "code",
   "execution_count": 8,
   "id": "8b95f7cc",
   "metadata": {},
   "outputs": [
    {
     "data": {
      "text/plain": [
       "(334876, 3)"
      ]
     },
     "execution_count": 8,
     "metadata": {},
     "output_type": "execute_result"
    }
   ],
   "source": [
    "all_bookings.shape"
   ]
  },
  {
   "cell_type": "code",
   "execution_count": 31,
   "id": "8b7a95d8",
   "metadata": {},
   "outputs": [],
   "source": [
    "#bk_df_key_no_dup=bk_df_key.drop_duplicates()"
   ]
  },
  {
   "cell_type": "code",
   "execution_count": 23,
   "id": "48fa75d0",
   "metadata": {},
   "outputs": [],
   "source": [
    "#bk_df_key.head()"
   ]
  },
  {
   "cell_type": "code",
   "execution_count": 24,
   "id": "7e787c7b",
   "metadata": {},
   "outputs": [],
   "source": [
    "# | head -1 | tr '^', '\\n' sustituye el separador por salto linea a la hora de mostrarlo"
   ]
  },
  {
   "cell_type": "code",
   "execution_count": 19,
   "id": "b75b875f",
   "metadata": {},
   "outputs": [],
   "source": [
    "#join_sh_bk= sh_df.merge(bk_df_key_no_dup, left_on=['Origin'], right_on=['DEP_PORT'], how=\"left\")"
   ]
  },
  {
   "cell_type": "code",
   "execution_count": 29,
   "id": "efe94398",
   "metadata": {},
   "outputs": [],
   "source": [
    "#join_sh_bk['isBokking']=np.where(join_sh_bk['CRE_DATE'].isnull()==True,0,1)\n",
    "#join_sh_bk"
   ]
  },
  {
   "cell_type": "code",
   "execution_count": 27,
   "id": "a2d63460",
   "metadata": {},
   "outputs": [],
   "source": [
    "#join_sh_bk[join_sh_bk['isBokking']==1]"
   ]
  },
  {
   "cell_type": "code",
   "execution_count": 26,
   "id": "4efcb4fe",
   "metadata": {},
   "outputs": [],
   "source": [
    "#join_sh_bk.drop_columns(['CRE_DATE','DEP_PORT','ARR_PORT'], inplace=True)"
   ]
  },
  {
   "cell_type": "code",
   "execution_count": 28,
   "id": "155c6411",
   "metadata": {},
   "outputs": [],
   "source": [
    "#sh_df.columns"
   ]
  },
  {
   "cell_type": "code",
   "execution_count": 16,
   "id": "bfb683c9",
   "metadata": {},
   "outputs": [],
   "source": [
    "#type(bk_df_key_no_dup)"
   ]
  },
  {
   "cell_type": "code",
   "execution_count": 17,
   "id": "461790c3",
   "metadata": {},
   "outputs": [],
   "source": [
    "#bk_df_key_no_dup.columns"
   ]
  },
  {
   "cell_type": "code",
   "execution_count": 18,
   "id": "f57d687b",
   "metadata": {},
   "outputs": [],
   "source": [
    "#bk_df_key_no_dup.head(10)"
   ]
  },
  {
   "cell_type": "code",
   "execution_count": 12,
   "id": "ec26ff33",
   "metadata": {},
   "outputs": [
    {
     "data": {
      "text/html": [
       "<div>\n",
       "<style scoped>\n",
       "    .dataframe tbody tr th:only-of-type {\n",
       "        vertical-align: middle;\n",
       "    }\n",
       "\n",
       "    .dataframe tbody tr th {\n",
       "        vertical-align: top;\n",
       "    }\n",
       "\n",
       "    .dataframe thead th {\n",
       "        text-align: right;\n",
       "    }\n",
       "</style>\n",
       "<table border=\"1\" class=\"dataframe\">\n",
       "  <thead>\n",
       "    <tr style=\"text-align: right;\">\n",
       "      <th></th>\n",
       "      <th>ARR_PORT</th>\n",
       "      <th>CRE_DATE</th>\n",
       "      <th>DEP_PORT</th>\n",
       "    </tr>\n",
       "  </thead>\n",
       "  <tbody>\n",
       "    <tr>\n",
       "      <th>0</th>\n",
       "      <td>LHR</td>\n",
       "      <td>2013-02-22</td>\n",
       "      <td>ZRH</td>\n",
       "    </tr>\n",
       "    <tr>\n",
       "      <th>1</th>\n",
       "      <td>CLT</td>\n",
       "      <td>2013-03-26</td>\n",
       "      <td>SAL</td>\n",
       "    </tr>\n",
       "    <tr>\n",
       "      <th>3</th>\n",
       "      <td>SVO</td>\n",
       "      <td>2013-03-26</td>\n",
       "      <td>AKL</td>\n",
       "    </tr>\n",
       "    <tr>\n",
       "      <th>5</th>\n",
       "      <td>LGA</td>\n",
       "      <td>2013-03-20</td>\n",
       "      <td>DEN</td>\n",
       "    </tr>\n",
       "    <tr>\n",
       "      <th>7</th>\n",
       "      <td>SIN</td>\n",
       "      <td>2013-03-25</td>\n",
       "      <td>NRT</td>\n",
       "    </tr>\n",
       "    <tr>\n",
       "      <th>19</th>\n",
       "      <td>TUS</td>\n",
       "      <td>2013-03-13</td>\n",
       "      <td>YYZ</td>\n",
       "    </tr>\n",
       "    <tr>\n",
       "      <th>20</th>\n",
       "      <td>CTA</td>\n",
       "      <td>2013-03-12</td>\n",
       "      <td>FCO</td>\n",
       "    </tr>\n",
       "    <tr>\n",
       "      <th>22</th>\n",
       "      <td>YWG</td>\n",
       "      <td>2013-03-12</td>\n",
       "      <td>BDQ</td>\n",
       "    </tr>\n",
       "    <tr>\n",
       "      <th>30</th>\n",
       "      <td>PVG</td>\n",
       "      <td>2013-03-12</td>\n",
       "      <td>CDG</td>\n",
       "    </tr>\n",
       "    <tr>\n",
       "      <th>33</th>\n",
       "      <td>SGC</td>\n",
       "      <td>2013-03-12</td>\n",
       "      <td>SIP</td>\n",
       "    </tr>\n",
       "  </tbody>\n",
       "</table>\n",
       "</div>"
      ],
      "text/plain": [
       "   ARR_PORT    CRE_DATE DEP_PORT\n",
       "0       LHR  2013-02-22      ZRH\n",
       "1       CLT  2013-03-26      SAL\n",
       "3       SVO  2013-03-26      AKL\n",
       "5       LGA  2013-03-20      DEN\n",
       "7       SIN  2013-03-25      NRT\n",
       "19      TUS  2013-03-13      YYZ\n",
       "20      CTA  2013-03-12      FCO\n",
       "22      YWG  2013-03-12      BDQ\n",
       "30      PVG  2013-03-12      CDG\n",
       "33      SGC  2013-03-12      SIP"
      ]
     },
     "execution_count": 12,
     "metadata": {},
     "output_type": "execute_result"
    }
   ],
   "source": [
    "all_bookings.head(10)"
   ]
  },
  {
   "cell_type": "markdown",
   "id": "fd839e2c",
   "metadata": {},
   "source": [
    "### primera versión\n",
    "#preparamos la importación del fichero con chuncks para poder tratarlo\n",
    "\n",
    "chunksize = 1000000\n",
    "filename='/home/dsc/data/challenge/searches.csv.bz2'\n",
    "searches=pd.read_csv(filename, compression='bz2',  sep='^',chunksize=chunksize)\n",
    "\n",
    "list_of_chunks=[]\n",
    "\n",
    "for chunk in searches:\n",
    "    join_sh_bk= chunk.merge( all_bookings, left_on=['Date','Origin','Destination'], \n",
    "                                right_on=['CRE_DATE','DEP_PORT','ARR_PORT'], how='left')\n",
    "    \n",
    "    join_sh_bk['isBokking']=np.where(join_sh_bk['CRE_DATE'].isnull()==True, 0 ,1)\n",
    "    join_sh_bk.drop(['CRE_DATE','DEP_PORT','ARR_PORT'],axis=1, inplace=True)\n",
    "    list_of_chunks.append(join_sh_bk)\n",
    "    \n",
    "\n",
    "final_tble=pd.concat(list_of_chunks)\n",
    "#print (f'número de chunks= {nchunk}')\n",
    "            \n",
    "final_tble.to_csv('searches_booked.csv.bz2',sep='^',compression='bz2')\n"
   ]
  },
  {
   "cell_type": "code",
   "execution_count": 6,
   "id": "afe97b73",
   "metadata": {},
   "outputs": [
    {
     "ename": "NameError",
     "evalue": "name 'final_tble' is not defined",
     "output_type": "error",
     "traceback": [
      "\u001b[0;31m---------------------------------------------------------------------------\u001b[0m",
      "\u001b[0;31mNameError\u001b[0m                                 Traceback (most recent call last)",
      "\u001b[0;32m/tmp/ipykernel_2886/4120445118.py\u001b[0m in \u001b[0;36m<module>\u001b[0;34m\u001b[0m\n\u001b[0;32m----> 1\u001b[0;31m \u001b[0mfinal_tble\u001b[0m\u001b[0;34m.\u001b[0m\u001b[0mhead\u001b[0m\u001b[0;34m(\u001b[0m\u001b[0;36m10\u001b[0m\u001b[0;34m)\u001b[0m\u001b[0;34m\u001b[0m\u001b[0;34m\u001b[0m\u001b[0m\n\u001b[0m",
      "\u001b[0;31mNameError\u001b[0m: name 'final_tble' is not defined"
     ]
    }
   ],
   "source": [
    "#final_tble.head(10)"
   ]
  },
  {
   "cell_type": "code",
   "execution_count": 4,
   "id": "6d71961f",
   "metadata": {},
   "outputs": [
    {
     "name": "stderr",
     "output_type": "stream",
     "text": [
      "/home/dsc/anaconda3/lib/python3.8/site-packages/IPython/core/interactiveshell.py:3361: DtypeWarning: Columns (40,41,42,44) have mixed types.Specify dtype option on import or set low_memory=False.\n",
      "  if (await self.run_code(code, result,  async_=asy)):\n",
      "/home/dsc/anaconda3/lib/python3.8/site-packages/IPython/core/interactiveshell.py:3361: DtypeWarning: Columns (29,30,31,32,33,34,35,36,37,38,44) have mixed types.Specify dtype option on import or set low_memory=False.\n",
      "  if (await self.run_code(code, result,  async_=asy)):\n"
     ]
    }
   ],
   "source": [
    "#NOTA: se puede ir almacenando cada salida del chunk en el output (csv) en modo append\n",
    "   \n",
    "chunksize = 1000000\n",
    "mode='w'\n",
    "header=True\n",
    "\n",
    "filename='/home/dsc/data/challenge/searches.csv.bz2'\n",
    "searches=pd.read_csv(filename, compression='bz2',  sep='^',chunksize=chunksize)\n",
    "\n",
    "#list_of_chunks=[]\n",
    "\n",
    "for chunk in searches:\n",
    "    join_sh_bk= chunk.merge( all_bookings, left_on=['Date','Origin','Destination'], \n",
    "                                right_on=['CRE_DATE','DEP_PORT','ARR_PORT'], how='left')\n",
    "    \n",
    "    join_sh_bk['isBokking']=np.where(join_sh_bk['CRE_DATE'].isnull()==True, 0 ,1)\n",
    "    join_sh_bk.drop(['CRE_DATE','DEP_PORT','ARR_PORT'],axis=1, inplace=True)\n",
    "    #list_of_chunks.append(join_sh_bk)\n",
    "    \n",
    "    join_sh_bk.to_csv('searches_booked.csv.bz2',sep='^',compression='bz2', header=header, mode=mode) \n",
    "    # primera vez modo w-rite con header, posteriores sin header y modo a-ppend\n",
    "    mode='a'\n",
    "    header=False\n",
    "\n",
    "#final_tble=pd.concat(list_of_chunks)\n",
    "#print (f'número de chunks= {nchunk}')           \n"
   ]
  },
  {
   "cell_type": "code",
   "execution_count": 7,
   "id": "79a28372",
   "metadata": {},
   "outputs": [
    {
     "name": "stdout",
     "output_type": "stream",
     "text": [
      "20390199\r\n"
     ]
    }
   ],
   "source": [
    "!bzcat searches_booked.csv.bz2 | wc -l # conteo de las filas del fich final = inicial = 20390198\n"
   ]
  },
  {
   "cell_type": "markdown",
   "id": "38f68e69",
   "metadata": {},
   "source": [
    "## Exercise 5\n",
    "\n",
    "Write a Web Service\n",
    "* Wrap the output of the second exercise in a web service that returns the data in JSON format (instead of printing to the standard output).\n",
    "* The web service should accept a parameter n>0. For the top 10 airports, n is 10. For the X top airports, n is X"
   ]
  },
  {
   "cell_type": "code",
   "execution_count": null,
   "id": "ad8f032b",
   "metadata": {},
   "outputs": [],
   "source": []
  },
  {
   "cell_type": "code",
   "execution_count": null,
   "id": "f90a050f",
   "metadata": {},
   "outputs": [],
   "source": []
  },
  {
   "cell_type": "code",
   "execution_count": null,
   "id": "96ba38a2",
   "metadata": {},
   "outputs": [],
   "source": []
  },
  {
   "cell_type": "code",
   "execution_count": null,
   "id": "77ccbf29",
   "metadata": {},
   "outputs": [],
   "source": []
  },
  {
   "cell_type": "code",
   "execution_count": null,
   "id": "4323142a",
   "metadata": {},
   "outputs": [],
   "source": []
  },
  {
   "cell_type": "code",
   "execution_count": null,
   "id": "05c2321c",
   "metadata": {},
   "outputs": [],
   "source": []
  }
 ],
 "metadata": {
  "kernelspec": {
   "display_name": "Python 3 (ipykernel)",
   "language": "python",
   "name": "python3"
  },
  "language_info": {
   "codemirror_mode": {
    "name": "ipython",
    "version": 3
   },
   "file_extension": ".py",
   "mimetype": "text/x-python",
   "name": "python",
   "nbconvert_exporter": "python",
   "pygments_lexer": "ipython3",
   "version": "3.8.11"
  }
 },
 "nbformat": 4,
 "nbformat_minor": 5
}
